{
  "nbformat": 4,
  "nbformat_minor": 0,
  "metadata": {
    "colab": {
      "provenance": [],
      "toc_visible": true
    },
    "kernelspec": {
      "name": "python3",
      "display_name": "Python 3"
    },
    "language_info": {
      "name": "python"
    }
  },
  "cells": [
    {
      "cell_type": "markdown",
      "source": [
        "# Energy Consumption Prediction"
      ],
      "metadata": {
        "id": "EXFakIxVD9eu"
      }
    },
    {
      "cell_type": "markdown",
      "source": [
        "## Problem Statement"
      ],
      "metadata": {
        "id": "uopRiYliSMFA"
      }
    },
    {
      "cell_type": "markdown",
      "source": [
        "Konsumsi energi pada bangunan sulit diprediksi secara akurat karena dipengaruhi oleh banyak faktor, seperti cuaca, waktu, dan kebiasaan penggunaan. Tidak adanya sistem prediktif menyebabkan operator bangunan kesulitan dalam mengelola beban puncak, yang berdampak pada efisiensi dan biaya operasional."
      ],
      "metadata": {
        "id": "G33kOFP2SNod"
      }
    },
    {
      "cell_type": "markdown",
      "source": [
        "## Data Exploration & Preparation\n",
        "\n"
      ],
      "metadata": {
        "id": "z_QIUd4lFz92"
      }
    },
    {
      "cell_type": "markdown",
      "source": [
        "### Import Libraries"
      ],
      "metadata": {
        "id": "zAKZ9_siYkTA"
      }
    },
    {
      "cell_type": "code",
      "source": [
        "!pip install xgboost"
      ],
      "metadata": {
        "colab": {
          "base_uri": "https://localhost:8080/"
        },
        "id": "7SJSJypOLRJ1",
        "outputId": "971b76d9-5831-43f6-987f-064ff51f7311"
      },
      "execution_count": 1,
      "outputs": [
        {
          "output_type": "stream",
          "name": "stdout",
          "text": [
            "Requirement already satisfied: xgboost in /usr/local/lib/python3.11/dist-packages (2.1.4)\n",
            "Requirement already satisfied: numpy in /usr/local/lib/python3.11/dist-packages (from xgboost) (2.0.2)\n",
            "Requirement already satisfied: nvidia-nccl-cu12 in /usr/local/lib/python3.11/dist-packages (from xgboost) (2.21.5)\n",
            "Requirement already satisfied: scipy in /usr/local/lib/python3.11/dist-packages (from xgboost) (1.14.1)\n"
          ]
        }
      ]
    },
    {
      "cell_type": "code",
      "source": [
        "from sklearn.model_selection import train_test_split, cross_val_score, RandomizedSearchCV\n",
        "from sklearn.linear_model import Ridge, Lasso\n",
        "from sklearn.ensemble import RandomForestRegressor\n",
        "from xgboost import XGBRegressor\n",
        "from sklearn.metrics import make_scorer, mean_absolute_error, mean_squared_error, r2_score\n",
        "from sklearn.preprocessing import OneHotEncoder, StandardScaler\n",
        "from sklearn.compose import ColumnTransformer\n",
        "from sklearn.pipeline import Pipeline\n",
        "\n",
        "import numpy as np\n",
        "import pandas as pd\n",
        "import matplotlib.pyplot as plt\n",
        "import seaborn as sns"
      ],
      "metadata": {
        "id": "C3OoaSqoKloR"
      },
      "execution_count": 2,
      "outputs": []
    },
    {
      "cell_type": "markdown",
      "source": [
        "### Load Dataset"
      ],
      "metadata": {
        "id": "iQeJGJSQYwq9"
      }
    },
    {
      "cell_type": "markdown",
      "source": [
        "Dataset yang digunakan dalam proyek ini berjudul **\"Energy Consumption Prediction\"**, yang diambil dari platform Kaggle:\n",
        "https://www.kaggle.com/datasets/mrsimple07/energy-consumption-prediction/data\n",
        "\n",
        "Fitur:\n",
        "- Temperature\n",
        "- Humidity\n",
        "- Square Footage\n",
        "- Occupancy\n",
        "- HVAC (Heating, Ventilation, and Air Conditioning) Usage\n",
        "- Lighting Usage\n",
        "- Renewable Energy\n",
        "- Day Of Week\n",
        "- Holiday\n",
        "- Energy Consumption"
      ],
      "metadata": {
        "id": "Syl7bxO97BDC"
      }
    },
    {
      "cell_type": "code",
      "execution_count": 3,
      "metadata": {
        "colab": {
          "base_uri": "https://localhost:8080/",
          "height": 206
        },
        "id": "Q_z0tcPaD7AO",
        "outputId": "d0935475-3263-46cd-d91a-e9db6ef77adf"
      },
      "outputs": [
        {
          "output_type": "execute_result",
          "data": {
            "text/plain": [
              "             Timestamp  Temperature   Humidity  SquareFootage  Occupancy  \\\n",
              "0  2022-01-01 00:00:00    25.139433  43.431581    1565.693999          5   \n",
              "1  2022-01-01 01:00:00    27.731651  54.225919    1411.064918          1   \n",
              "2  2022-01-01 02:00:00    28.704277  58.907658    1755.715009          2   \n",
              "3  2022-01-01 03:00:00    20.080469  50.371637    1452.316318          1   \n",
              "4  2022-01-01 04:00:00    23.097359  51.401421    1094.130359          9   \n",
              "\n",
              "  HVACUsage LightingUsage  RenewableEnergy  DayOfWeek Holiday  \\\n",
              "0        On           Off         2.774699     Monday      No   \n",
              "1        On            On        21.831384   Saturday      No   \n",
              "2       Off           Off         6.764672     Sunday      No   \n",
              "3       Off            On         8.623447  Wednesday      No   \n",
              "4        On           Off         3.071969     Friday      No   \n",
              "\n",
              "   EnergyConsumption  \n",
              "0          75.364373  \n",
              "1          83.401855  \n",
              "2          78.270888  \n",
              "3          56.519850  \n",
              "4          70.811732  "
            ],
            "text/html": [
              "\n",
              "  <div id=\"df-3ba99058-9444-4448-956e-0b3963708153\" class=\"colab-df-container\">\n",
              "    <div>\n",
              "<style scoped>\n",
              "    .dataframe tbody tr th:only-of-type {\n",
              "        vertical-align: middle;\n",
              "    }\n",
              "\n",
              "    .dataframe tbody tr th {\n",
              "        vertical-align: top;\n",
              "    }\n",
              "\n",
              "    .dataframe thead th {\n",
              "        text-align: right;\n",
              "    }\n",
              "</style>\n",
              "<table border=\"1\" class=\"dataframe\">\n",
              "  <thead>\n",
              "    <tr style=\"text-align: right;\">\n",
              "      <th></th>\n",
              "      <th>Timestamp</th>\n",
              "      <th>Temperature</th>\n",
              "      <th>Humidity</th>\n",
              "      <th>SquareFootage</th>\n",
              "      <th>Occupancy</th>\n",
              "      <th>HVACUsage</th>\n",
              "      <th>LightingUsage</th>\n",
              "      <th>RenewableEnergy</th>\n",
              "      <th>DayOfWeek</th>\n",
              "      <th>Holiday</th>\n",
              "      <th>EnergyConsumption</th>\n",
              "    </tr>\n",
              "  </thead>\n",
              "  <tbody>\n",
              "    <tr>\n",
              "      <th>0</th>\n",
              "      <td>2022-01-01 00:00:00</td>\n",
              "      <td>25.139433</td>\n",
              "      <td>43.431581</td>\n",
              "      <td>1565.693999</td>\n",
              "      <td>5</td>\n",
              "      <td>On</td>\n",
              "      <td>Off</td>\n",
              "      <td>2.774699</td>\n",
              "      <td>Monday</td>\n",
              "      <td>No</td>\n",
              "      <td>75.364373</td>\n",
              "    </tr>\n",
              "    <tr>\n",
              "      <th>1</th>\n",
              "      <td>2022-01-01 01:00:00</td>\n",
              "      <td>27.731651</td>\n",
              "      <td>54.225919</td>\n",
              "      <td>1411.064918</td>\n",
              "      <td>1</td>\n",
              "      <td>On</td>\n",
              "      <td>On</td>\n",
              "      <td>21.831384</td>\n",
              "      <td>Saturday</td>\n",
              "      <td>No</td>\n",
              "      <td>83.401855</td>\n",
              "    </tr>\n",
              "    <tr>\n",
              "      <th>2</th>\n",
              "      <td>2022-01-01 02:00:00</td>\n",
              "      <td>28.704277</td>\n",
              "      <td>58.907658</td>\n",
              "      <td>1755.715009</td>\n",
              "      <td>2</td>\n",
              "      <td>Off</td>\n",
              "      <td>Off</td>\n",
              "      <td>6.764672</td>\n",
              "      <td>Sunday</td>\n",
              "      <td>No</td>\n",
              "      <td>78.270888</td>\n",
              "    </tr>\n",
              "    <tr>\n",
              "      <th>3</th>\n",
              "      <td>2022-01-01 03:00:00</td>\n",
              "      <td>20.080469</td>\n",
              "      <td>50.371637</td>\n",
              "      <td>1452.316318</td>\n",
              "      <td>1</td>\n",
              "      <td>Off</td>\n",
              "      <td>On</td>\n",
              "      <td>8.623447</td>\n",
              "      <td>Wednesday</td>\n",
              "      <td>No</td>\n",
              "      <td>56.519850</td>\n",
              "    </tr>\n",
              "    <tr>\n",
              "      <th>4</th>\n",
              "      <td>2022-01-01 04:00:00</td>\n",
              "      <td>23.097359</td>\n",
              "      <td>51.401421</td>\n",
              "      <td>1094.130359</td>\n",
              "      <td>9</td>\n",
              "      <td>On</td>\n",
              "      <td>Off</td>\n",
              "      <td>3.071969</td>\n",
              "      <td>Friday</td>\n",
              "      <td>No</td>\n",
              "      <td>70.811732</td>\n",
              "    </tr>\n",
              "  </tbody>\n",
              "</table>\n",
              "</div>\n",
              "    <div class=\"colab-df-buttons\">\n",
              "\n",
              "  <div class=\"colab-df-container\">\n",
              "    <button class=\"colab-df-convert\" onclick=\"convertToInteractive('df-3ba99058-9444-4448-956e-0b3963708153')\"\n",
              "            title=\"Convert this dataframe to an interactive table.\"\n",
              "            style=\"display:none;\">\n",
              "\n",
              "  <svg xmlns=\"http://www.w3.org/2000/svg\" height=\"24px\" viewBox=\"0 -960 960 960\">\n",
              "    <path d=\"M120-120v-720h720v720H120Zm60-500h600v-160H180v160Zm220 220h160v-160H400v160Zm0 220h160v-160H400v160ZM180-400h160v-160H180v160Zm440 0h160v-160H620v160ZM180-180h160v-160H180v160Zm440 0h160v-160H620v160Z\"/>\n",
              "  </svg>\n",
              "    </button>\n",
              "\n",
              "  <style>\n",
              "    .colab-df-container {\n",
              "      display:flex;\n",
              "      gap: 12px;\n",
              "    }\n",
              "\n",
              "    .colab-df-convert {\n",
              "      background-color: #E8F0FE;\n",
              "      border: none;\n",
              "      border-radius: 50%;\n",
              "      cursor: pointer;\n",
              "      display: none;\n",
              "      fill: #1967D2;\n",
              "      height: 32px;\n",
              "      padding: 0 0 0 0;\n",
              "      width: 32px;\n",
              "    }\n",
              "\n",
              "    .colab-df-convert:hover {\n",
              "      background-color: #E2EBFA;\n",
              "      box-shadow: 0px 1px 2px rgba(60, 64, 67, 0.3), 0px 1px 3px 1px rgba(60, 64, 67, 0.15);\n",
              "      fill: #174EA6;\n",
              "    }\n",
              "\n",
              "    .colab-df-buttons div {\n",
              "      margin-bottom: 4px;\n",
              "    }\n",
              "\n",
              "    [theme=dark] .colab-df-convert {\n",
              "      background-color: #3B4455;\n",
              "      fill: #D2E3FC;\n",
              "    }\n",
              "\n",
              "    [theme=dark] .colab-df-convert:hover {\n",
              "      background-color: #434B5C;\n",
              "      box-shadow: 0px 1px 3px 1px rgba(0, 0, 0, 0.15);\n",
              "      filter: drop-shadow(0px 1px 2px rgba(0, 0, 0, 0.3));\n",
              "      fill: #FFFFFF;\n",
              "    }\n",
              "  </style>\n",
              "\n",
              "    <script>\n",
              "      const buttonEl =\n",
              "        document.querySelector('#df-3ba99058-9444-4448-956e-0b3963708153 button.colab-df-convert');\n",
              "      buttonEl.style.display =\n",
              "        google.colab.kernel.accessAllowed ? 'block' : 'none';\n",
              "\n",
              "      async function convertToInteractive(key) {\n",
              "        const element = document.querySelector('#df-3ba99058-9444-4448-956e-0b3963708153');\n",
              "        const dataTable =\n",
              "          await google.colab.kernel.invokeFunction('convertToInteractive',\n",
              "                                                    [key], {});\n",
              "        if (!dataTable) return;\n",
              "\n",
              "        const docLinkHtml = 'Like what you see? Visit the ' +\n",
              "          '<a target=\"_blank\" href=https://colab.research.google.com/notebooks/data_table.ipynb>data table notebook</a>'\n",
              "          + ' to learn more about interactive tables.';\n",
              "        element.innerHTML = '';\n",
              "        dataTable['output_type'] = 'display_data';\n",
              "        await google.colab.output.renderOutput(dataTable, element);\n",
              "        const docLink = document.createElement('div');\n",
              "        docLink.innerHTML = docLinkHtml;\n",
              "        element.appendChild(docLink);\n",
              "      }\n",
              "    </script>\n",
              "  </div>\n",
              "\n",
              "\n",
              "<div id=\"df-863b188d-94e1-47bf-b644-120c76b40aa1\">\n",
              "  <button class=\"colab-df-quickchart\" onclick=\"quickchart('df-863b188d-94e1-47bf-b644-120c76b40aa1')\"\n",
              "            title=\"Suggest charts\"\n",
              "            style=\"display:none;\">\n",
              "\n",
              "<svg xmlns=\"http://www.w3.org/2000/svg\" height=\"24px\"viewBox=\"0 0 24 24\"\n",
              "     width=\"24px\">\n",
              "    <g>\n",
              "        <path d=\"M19 3H5c-1.1 0-2 .9-2 2v14c0 1.1.9 2 2 2h14c1.1 0 2-.9 2-2V5c0-1.1-.9-2-2-2zM9 17H7v-7h2v7zm4 0h-2V7h2v10zm4 0h-2v-4h2v4z\"/>\n",
              "    </g>\n",
              "</svg>\n",
              "  </button>\n",
              "\n",
              "<style>\n",
              "  .colab-df-quickchart {\n",
              "      --bg-color: #E8F0FE;\n",
              "      --fill-color: #1967D2;\n",
              "      --hover-bg-color: #E2EBFA;\n",
              "      --hover-fill-color: #174EA6;\n",
              "      --disabled-fill-color: #AAA;\n",
              "      --disabled-bg-color: #DDD;\n",
              "  }\n",
              "\n",
              "  [theme=dark] .colab-df-quickchart {\n",
              "      --bg-color: #3B4455;\n",
              "      --fill-color: #D2E3FC;\n",
              "      --hover-bg-color: #434B5C;\n",
              "      --hover-fill-color: #FFFFFF;\n",
              "      --disabled-bg-color: #3B4455;\n",
              "      --disabled-fill-color: #666;\n",
              "  }\n",
              "\n",
              "  .colab-df-quickchart {\n",
              "    background-color: var(--bg-color);\n",
              "    border: none;\n",
              "    border-radius: 50%;\n",
              "    cursor: pointer;\n",
              "    display: none;\n",
              "    fill: var(--fill-color);\n",
              "    height: 32px;\n",
              "    padding: 0;\n",
              "    width: 32px;\n",
              "  }\n",
              "\n",
              "  .colab-df-quickchart:hover {\n",
              "    background-color: var(--hover-bg-color);\n",
              "    box-shadow: 0 1px 2px rgba(60, 64, 67, 0.3), 0 1px 3px 1px rgba(60, 64, 67, 0.15);\n",
              "    fill: var(--button-hover-fill-color);\n",
              "  }\n",
              "\n",
              "  .colab-df-quickchart-complete:disabled,\n",
              "  .colab-df-quickchart-complete:disabled:hover {\n",
              "    background-color: var(--disabled-bg-color);\n",
              "    fill: var(--disabled-fill-color);\n",
              "    box-shadow: none;\n",
              "  }\n",
              "\n",
              "  .colab-df-spinner {\n",
              "    border: 2px solid var(--fill-color);\n",
              "    border-color: transparent;\n",
              "    border-bottom-color: var(--fill-color);\n",
              "    animation:\n",
              "      spin 1s steps(1) infinite;\n",
              "  }\n",
              "\n",
              "  @keyframes spin {\n",
              "    0% {\n",
              "      border-color: transparent;\n",
              "      border-bottom-color: var(--fill-color);\n",
              "      border-left-color: var(--fill-color);\n",
              "    }\n",
              "    20% {\n",
              "      border-color: transparent;\n",
              "      border-left-color: var(--fill-color);\n",
              "      border-top-color: var(--fill-color);\n",
              "    }\n",
              "    30% {\n",
              "      border-color: transparent;\n",
              "      border-left-color: var(--fill-color);\n",
              "      border-top-color: var(--fill-color);\n",
              "      border-right-color: var(--fill-color);\n",
              "    }\n",
              "    40% {\n",
              "      border-color: transparent;\n",
              "      border-right-color: var(--fill-color);\n",
              "      border-top-color: var(--fill-color);\n",
              "    }\n",
              "    60% {\n",
              "      border-color: transparent;\n",
              "      border-right-color: var(--fill-color);\n",
              "    }\n",
              "    80% {\n",
              "      border-color: transparent;\n",
              "      border-right-color: var(--fill-color);\n",
              "      border-bottom-color: var(--fill-color);\n",
              "    }\n",
              "    90% {\n",
              "      border-color: transparent;\n",
              "      border-bottom-color: var(--fill-color);\n",
              "    }\n",
              "  }\n",
              "</style>\n",
              "\n",
              "  <script>\n",
              "    async function quickchart(key) {\n",
              "      const quickchartButtonEl =\n",
              "        document.querySelector('#' + key + ' button');\n",
              "      quickchartButtonEl.disabled = true;  // To prevent multiple clicks.\n",
              "      quickchartButtonEl.classList.add('colab-df-spinner');\n",
              "      try {\n",
              "        const charts = await google.colab.kernel.invokeFunction(\n",
              "            'suggestCharts', [key], {});\n",
              "      } catch (error) {\n",
              "        console.error('Error during call to suggestCharts:', error);\n",
              "      }\n",
              "      quickchartButtonEl.classList.remove('colab-df-spinner');\n",
              "      quickchartButtonEl.classList.add('colab-df-quickchart-complete');\n",
              "    }\n",
              "    (() => {\n",
              "      let quickchartButtonEl =\n",
              "        document.querySelector('#df-863b188d-94e1-47bf-b644-120c76b40aa1 button');\n",
              "      quickchartButtonEl.style.display =\n",
              "        google.colab.kernel.accessAllowed ? 'block' : 'none';\n",
              "    })();\n",
              "  </script>\n",
              "</div>\n",
              "\n",
              "    </div>\n",
              "  </div>\n"
            ],
            "application/vnd.google.colaboratory.intrinsic+json": {
              "type": "dataframe",
              "variable_name": "df",
              "summary": "{\n  \"name\": \"df\",\n  \"rows\": 1000,\n  \"fields\": [\n    {\n      \"column\": \"Timestamp\",\n      \"properties\": {\n        \"dtype\": \"object\",\n        \"num_unique_values\": 1000,\n        \"samples\": [\n          \"2022-01-22 17:00:00\",\n          \"2022-01-31 17:00:00\",\n          \"2022-01-31 20:00:00\"\n        ],\n        \"semantic_type\": \"\",\n        \"description\": \"\"\n      }\n    },\n    {\n      \"column\": \"Temperature\",\n      \"properties\": {\n        \"dtype\": \"number\",\n        \"std\": 2.8368498400348523,\n        \"min\": 20.00756508361767,\n        \"max\": 29.998670840983927,\n        \"num_unique_values\": 1000,\n        \"samples\": [\n          26.13529093559066,\n          27.18535072644545,\n          25.154023578344663\n        ],\n        \"semantic_type\": \"\",\n        \"description\": \"\"\n      }\n    },\n    {\n      \"column\": \"Humidity\",\n      \"properties\": {\n        \"dtype\": \"number\",\n        \"std\": 8.5189050495478,\n        \"min\": 30.01597450346074,\n        \"max\": 59.96908490414602,\n        \"num_unique_values\": 1000,\n        \"samples\": [\n          48.49872944154677,\n          33.58135304010558,\n          37.59348909576118\n        ],\n        \"semantic_type\": \"\",\n        \"description\": \"\"\n      }\n    },\n    {\n      \"column\": \"SquareFootage\",\n      \"properties\": {\n        \"dtype\": \"number\",\n        \"std\": 288.4188731051356,\n        \"min\": 1000.5126606747408,\n        \"max\": 1999.982252131635,\n        \"num_unique_values\": 1000,\n        \"samples\": [\n          1303.715986305891,\n          1457.566456141788,\n          1869.5985483259635\n        ],\n        \"semantic_type\": \"\",\n        \"description\": \"\"\n      }\n    },\n    {\n      \"column\": \"Occupancy\",\n      \"properties\": {\n        \"dtype\": \"number\",\n        \"std\": 2,\n        \"min\": 0,\n        \"max\": 9,\n        \"num_unique_values\": 10,\n        \"samples\": [\n          3,\n          1,\n          8\n        ],\n        \"semantic_type\": \"\",\n        \"description\": \"\"\n      }\n    },\n    {\n      \"column\": \"HVACUsage\",\n      \"properties\": {\n        \"dtype\": \"category\",\n        \"num_unique_values\": 2,\n        \"samples\": [\n          \"Off\",\n          \"On\"\n        ],\n        \"semantic_type\": \"\",\n        \"description\": \"\"\n      }\n    },\n    {\n      \"column\": \"LightingUsage\",\n      \"properties\": {\n        \"dtype\": \"category\",\n        \"num_unique_values\": 2,\n        \"samples\": [\n          \"On\",\n          \"Off\"\n        ],\n        \"semantic_type\": \"\",\n        \"description\": \"\"\n      }\n    },\n    {\n      \"column\": \"RenewableEnergy\",\n      \"properties\": {\n        \"dtype\": \"number\",\n        \"std\": 8.745917052439188,\n        \"min\": 0.0066421051905973,\n        \"max\": 29.96532733777335,\n        \"num_unique_values\": 1000,\n        \"samples\": [\n          5.667656190713628,\n          4.312260963138587\n        ],\n        \"semantic_type\": \"\",\n        \"description\": \"\"\n      }\n    },\n    {\n      \"column\": \"DayOfWeek\",\n      \"properties\": {\n        \"dtype\": \"category\",\n        \"num_unique_values\": 7,\n        \"samples\": [\n          \"Monday\",\n          \"Saturday\"\n        ],\n        \"semantic_type\": \"\",\n        \"description\": \"\"\n      }\n    },\n    {\n      \"column\": \"Holiday\",\n      \"properties\": {\n        \"dtype\": \"category\",\n        \"num_unique_values\": 2,\n        \"samples\": [\n          \"Yes\",\n          \"No\"\n        ],\n        \"semantic_type\": \"\",\n        \"description\": \"\"\n      }\n    },\n    {\n      \"column\": \"EnergyConsumption\",\n      \"properties\": {\n        \"dtype\": \"number\",\n        \"std\": 8.144111583554398,\n        \"min\": 53.26327834004948,\n        \"max\": 99.20111959032307,\n        \"num_unique_values\": 1000,\n        \"samples\": [\n          86.92061127676786,\n          88.35160574829843\n        ],\n        \"semantic_type\": \"\",\n        \"description\": \"\"\n      }\n    }\n  ]\n}"
            }
          },
          "metadata": {},
          "execution_count": 3
        }
      ],
      "source": [
        "df = pd.read_csv('energy_consumption.csv')\n",
        "df.head()"
      ]
    },
    {
      "cell_type": "markdown",
      "source": [
        "#### Number of rows and columns"
      ],
      "metadata": {
        "id": "neeNcKHLJjmm"
      }
    },
    {
      "cell_type": "code",
      "source": [
        "# Mengecek jumlah baris dan kolom\n",
        "print(df.shape)"
      ],
      "metadata": {
        "colab": {
          "base_uri": "https://localhost:8080/"
        },
        "id": "Efz2pNQ9qCbJ",
        "outputId": "655fcdd0-00b5-4b4b-8b3b-9d5a766e00ee"
      },
      "execution_count": 4,
      "outputs": [
        {
          "output_type": "stream",
          "name": "stdout",
          "text": [
            "(1000, 11)\n"
          ]
        }
      ]
    },
    {
      "cell_type": "markdown",
      "source": [
        "#### Data type of each column"
      ],
      "metadata": {
        "id": "mFEKj39rJ6UZ"
      }
    },
    {
      "cell_type": "code",
      "source": [
        "# Mengecek tipe data tiap kolom\n",
        "print(df.dtypes)"
      ],
      "metadata": {
        "colab": {
          "base_uri": "https://localhost:8080/"
        },
        "id": "adVT5tyPwSwo",
        "outputId": "de264e8d-1d17-4aeb-e9ee-9cb660087b90"
      },
      "execution_count": 5,
      "outputs": [
        {
          "output_type": "stream",
          "name": "stdout",
          "text": [
            "Timestamp             object\n",
            "Temperature          float64\n",
            "Humidity             float64\n",
            "SquareFootage        float64\n",
            "Occupancy              int64\n",
            "HVACUsage             object\n",
            "LightingUsage         object\n",
            "RenewableEnergy      float64\n",
            "DayOfWeek             object\n",
            "Holiday               object\n",
            "EnergyConsumption    float64\n",
            "dtype: object\n"
          ]
        }
      ]
    },
    {
      "cell_type": "markdown",
      "source": [
        "#### Checking for missing values"
      ],
      "metadata": {
        "id": "S8STqhOXJ7ge"
      }
    },
    {
      "cell_type": "code",
      "source": [
        "# Mengecek nilai yang hilang\n",
        "print(df.isnull().sum())"
      ],
      "metadata": {
        "colab": {
          "base_uri": "https://localhost:8080/"
        },
        "id": "GaiNAQbwwT3s",
        "outputId": "83468879-8905-42c3-d25e-b90f1e3bd2ed"
      },
      "execution_count": 6,
      "outputs": [
        {
          "output_type": "stream",
          "name": "stdout",
          "text": [
            "Timestamp            0\n",
            "Temperature          0\n",
            "Humidity             0\n",
            "SquareFootage        0\n",
            "Occupancy            0\n",
            "HVACUsage            0\n",
            "LightingUsage        0\n",
            "RenewableEnergy      0\n",
            "DayOfWeek            0\n",
            "Holiday              0\n",
            "EnergyConsumption    0\n",
            "dtype: int64\n"
          ]
        }
      ]
    },
    {
      "cell_type": "markdown",
      "source": [
        "#### Initial descriptive statistics"
      ],
      "metadata": {
        "id": "wh0o7_v-KBFj"
      }
    },
    {
      "cell_type": "code",
      "source": [
        "# Mengecek statistik deskriptif awal\n",
        "df.describe()"
      ],
      "metadata": {
        "colab": {
          "base_uri": "https://localhost:8080/",
          "height": 300
        },
        "id": "ULbl2WhiwVEe",
        "outputId": "6e0fe2d7-b8a1-47c8-c24a-3d3bbdf1162d"
      },
      "execution_count": 7,
      "outputs": [
        {
          "output_type": "execute_result",
          "data": {
            "text/plain": [
              "       Temperature     Humidity  SquareFootage    Occupancy  RenewableEnergy  \\\n",
              "count  1000.000000  1000.000000    1000.000000  1000.000000      1000.000000   \n",
              "mean     24.982026    45.395412    1500.052488     4.581000        15.132813   \n",
              "std       2.836850     8.518905     288.418873     2.865598         8.745917   \n",
              "min      20.007565    30.015975    1000.512661     0.000000         0.006642   \n",
              "25%      22.645070    38.297722    1247.108548     2.000000         7.628385   \n",
              "50%      24.751637    45.972116    1507.967426     5.000000        15.072296   \n",
              "75%      27.418174    52.420066    1740.340165     7.000000        22.884064   \n",
              "max      29.998671    59.969085    1999.982252     9.000000        29.965327   \n",
              "\n",
              "       EnergyConsumption  \n",
              "count        1000.000000  \n",
              "mean           77.055873  \n",
              "std             8.144112  \n",
              "min            53.263278  \n",
              "25%            71.544690  \n",
              "50%            76.943696  \n",
              "75%            82.921742  \n",
              "max            99.201120  "
            ],
            "text/html": [
              "\n",
              "  <div id=\"df-180f6476-1e67-4864-8bdf-3f4553de0425\" class=\"colab-df-container\">\n",
              "    <div>\n",
              "<style scoped>\n",
              "    .dataframe tbody tr th:only-of-type {\n",
              "        vertical-align: middle;\n",
              "    }\n",
              "\n",
              "    .dataframe tbody tr th {\n",
              "        vertical-align: top;\n",
              "    }\n",
              "\n",
              "    .dataframe thead th {\n",
              "        text-align: right;\n",
              "    }\n",
              "</style>\n",
              "<table border=\"1\" class=\"dataframe\">\n",
              "  <thead>\n",
              "    <tr style=\"text-align: right;\">\n",
              "      <th></th>\n",
              "      <th>Temperature</th>\n",
              "      <th>Humidity</th>\n",
              "      <th>SquareFootage</th>\n",
              "      <th>Occupancy</th>\n",
              "      <th>RenewableEnergy</th>\n",
              "      <th>EnergyConsumption</th>\n",
              "    </tr>\n",
              "  </thead>\n",
              "  <tbody>\n",
              "    <tr>\n",
              "      <th>count</th>\n",
              "      <td>1000.000000</td>\n",
              "      <td>1000.000000</td>\n",
              "      <td>1000.000000</td>\n",
              "      <td>1000.000000</td>\n",
              "      <td>1000.000000</td>\n",
              "      <td>1000.000000</td>\n",
              "    </tr>\n",
              "    <tr>\n",
              "      <th>mean</th>\n",
              "      <td>24.982026</td>\n",
              "      <td>45.395412</td>\n",
              "      <td>1500.052488</td>\n",
              "      <td>4.581000</td>\n",
              "      <td>15.132813</td>\n",
              "      <td>77.055873</td>\n",
              "    </tr>\n",
              "    <tr>\n",
              "      <th>std</th>\n",
              "      <td>2.836850</td>\n",
              "      <td>8.518905</td>\n",
              "      <td>288.418873</td>\n",
              "      <td>2.865598</td>\n",
              "      <td>8.745917</td>\n",
              "      <td>8.144112</td>\n",
              "    </tr>\n",
              "    <tr>\n",
              "      <th>min</th>\n",
              "      <td>20.007565</td>\n",
              "      <td>30.015975</td>\n",
              "      <td>1000.512661</td>\n",
              "      <td>0.000000</td>\n",
              "      <td>0.006642</td>\n",
              "      <td>53.263278</td>\n",
              "    </tr>\n",
              "    <tr>\n",
              "      <th>25%</th>\n",
              "      <td>22.645070</td>\n",
              "      <td>38.297722</td>\n",
              "      <td>1247.108548</td>\n",
              "      <td>2.000000</td>\n",
              "      <td>7.628385</td>\n",
              "      <td>71.544690</td>\n",
              "    </tr>\n",
              "    <tr>\n",
              "      <th>50%</th>\n",
              "      <td>24.751637</td>\n",
              "      <td>45.972116</td>\n",
              "      <td>1507.967426</td>\n",
              "      <td>5.000000</td>\n",
              "      <td>15.072296</td>\n",
              "      <td>76.943696</td>\n",
              "    </tr>\n",
              "    <tr>\n",
              "      <th>75%</th>\n",
              "      <td>27.418174</td>\n",
              "      <td>52.420066</td>\n",
              "      <td>1740.340165</td>\n",
              "      <td>7.000000</td>\n",
              "      <td>22.884064</td>\n",
              "      <td>82.921742</td>\n",
              "    </tr>\n",
              "    <tr>\n",
              "      <th>max</th>\n",
              "      <td>29.998671</td>\n",
              "      <td>59.969085</td>\n",
              "      <td>1999.982252</td>\n",
              "      <td>9.000000</td>\n",
              "      <td>29.965327</td>\n",
              "      <td>99.201120</td>\n",
              "    </tr>\n",
              "  </tbody>\n",
              "</table>\n",
              "</div>\n",
              "    <div class=\"colab-df-buttons\">\n",
              "\n",
              "  <div class=\"colab-df-container\">\n",
              "    <button class=\"colab-df-convert\" onclick=\"convertToInteractive('df-180f6476-1e67-4864-8bdf-3f4553de0425')\"\n",
              "            title=\"Convert this dataframe to an interactive table.\"\n",
              "            style=\"display:none;\">\n",
              "\n",
              "  <svg xmlns=\"http://www.w3.org/2000/svg\" height=\"24px\" viewBox=\"0 -960 960 960\">\n",
              "    <path d=\"M120-120v-720h720v720H120Zm60-500h600v-160H180v160Zm220 220h160v-160H400v160Zm0 220h160v-160H400v160ZM180-400h160v-160H180v160Zm440 0h160v-160H620v160ZM180-180h160v-160H180v160Zm440 0h160v-160H620v160Z\"/>\n",
              "  </svg>\n",
              "    </button>\n",
              "\n",
              "  <style>\n",
              "    .colab-df-container {\n",
              "      display:flex;\n",
              "      gap: 12px;\n",
              "    }\n",
              "\n",
              "    .colab-df-convert {\n",
              "      background-color: #E8F0FE;\n",
              "      border: none;\n",
              "      border-radius: 50%;\n",
              "      cursor: pointer;\n",
              "      display: none;\n",
              "      fill: #1967D2;\n",
              "      height: 32px;\n",
              "      padding: 0 0 0 0;\n",
              "      width: 32px;\n",
              "    }\n",
              "\n",
              "    .colab-df-convert:hover {\n",
              "      background-color: #E2EBFA;\n",
              "      box-shadow: 0px 1px 2px rgba(60, 64, 67, 0.3), 0px 1px 3px 1px rgba(60, 64, 67, 0.15);\n",
              "      fill: #174EA6;\n",
              "    }\n",
              "\n",
              "    .colab-df-buttons div {\n",
              "      margin-bottom: 4px;\n",
              "    }\n",
              "\n",
              "    [theme=dark] .colab-df-convert {\n",
              "      background-color: #3B4455;\n",
              "      fill: #D2E3FC;\n",
              "    }\n",
              "\n",
              "    [theme=dark] .colab-df-convert:hover {\n",
              "      background-color: #434B5C;\n",
              "      box-shadow: 0px 1px 3px 1px rgba(0, 0, 0, 0.15);\n",
              "      filter: drop-shadow(0px 1px 2px rgba(0, 0, 0, 0.3));\n",
              "      fill: #FFFFFF;\n",
              "    }\n",
              "  </style>\n",
              "\n",
              "    <script>\n",
              "      const buttonEl =\n",
              "        document.querySelector('#df-180f6476-1e67-4864-8bdf-3f4553de0425 button.colab-df-convert');\n",
              "      buttonEl.style.display =\n",
              "        google.colab.kernel.accessAllowed ? 'block' : 'none';\n",
              "\n",
              "      async function convertToInteractive(key) {\n",
              "        const element = document.querySelector('#df-180f6476-1e67-4864-8bdf-3f4553de0425');\n",
              "        const dataTable =\n",
              "          await google.colab.kernel.invokeFunction('convertToInteractive',\n",
              "                                                    [key], {});\n",
              "        if (!dataTable) return;\n",
              "\n",
              "        const docLinkHtml = 'Like what you see? Visit the ' +\n",
              "          '<a target=\"_blank\" href=https://colab.research.google.com/notebooks/data_table.ipynb>data table notebook</a>'\n",
              "          + ' to learn more about interactive tables.';\n",
              "        element.innerHTML = '';\n",
              "        dataTable['output_type'] = 'display_data';\n",
              "        await google.colab.output.renderOutput(dataTable, element);\n",
              "        const docLink = document.createElement('div');\n",
              "        docLink.innerHTML = docLinkHtml;\n",
              "        element.appendChild(docLink);\n",
              "      }\n",
              "    </script>\n",
              "  </div>\n",
              "\n",
              "\n",
              "<div id=\"df-57781007-28d2-44a2-9819-d24e86955bf9\">\n",
              "  <button class=\"colab-df-quickchart\" onclick=\"quickchart('df-57781007-28d2-44a2-9819-d24e86955bf9')\"\n",
              "            title=\"Suggest charts\"\n",
              "            style=\"display:none;\">\n",
              "\n",
              "<svg xmlns=\"http://www.w3.org/2000/svg\" height=\"24px\"viewBox=\"0 0 24 24\"\n",
              "     width=\"24px\">\n",
              "    <g>\n",
              "        <path d=\"M19 3H5c-1.1 0-2 .9-2 2v14c0 1.1.9 2 2 2h14c1.1 0 2-.9 2-2V5c0-1.1-.9-2-2-2zM9 17H7v-7h2v7zm4 0h-2V7h2v10zm4 0h-2v-4h2v4z\"/>\n",
              "    </g>\n",
              "</svg>\n",
              "  </button>\n",
              "\n",
              "<style>\n",
              "  .colab-df-quickchart {\n",
              "      --bg-color: #E8F0FE;\n",
              "      --fill-color: #1967D2;\n",
              "      --hover-bg-color: #E2EBFA;\n",
              "      --hover-fill-color: #174EA6;\n",
              "      --disabled-fill-color: #AAA;\n",
              "      --disabled-bg-color: #DDD;\n",
              "  }\n",
              "\n",
              "  [theme=dark] .colab-df-quickchart {\n",
              "      --bg-color: #3B4455;\n",
              "      --fill-color: #D2E3FC;\n",
              "      --hover-bg-color: #434B5C;\n",
              "      --hover-fill-color: #FFFFFF;\n",
              "      --disabled-bg-color: #3B4455;\n",
              "      --disabled-fill-color: #666;\n",
              "  }\n",
              "\n",
              "  .colab-df-quickchart {\n",
              "    background-color: var(--bg-color);\n",
              "    border: none;\n",
              "    border-radius: 50%;\n",
              "    cursor: pointer;\n",
              "    display: none;\n",
              "    fill: var(--fill-color);\n",
              "    height: 32px;\n",
              "    padding: 0;\n",
              "    width: 32px;\n",
              "  }\n",
              "\n",
              "  .colab-df-quickchart:hover {\n",
              "    background-color: var(--hover-bg-color);\n",
              "    box-shadow: 0 1px 2px rgba(60, 64, 67, 0.3), 0 1px 3px 1px rgba(60, 64, 67, 0.15);\n",
              "    fill: var(--button-hover-fill-color);\n",
              "  }\n",
              "\n",
              "  .colab-df-quickchart-complete:disabled,\n",
              "  .colab-df-quickchart-complete:disabled:hover {\n",
              "    background-color: var(--disabled-bg-color);\n",
              "    fill: var(--disabled-fill-color);\n",
              "    box-shadow: none;\n",
              "  }\n",
              "\n",
              "  .colab-df-spinner {\n",
              "    border: 2px solid var(--fill-color);\n",
              "    border-color: transparent;\n",
              "    border-bottom-color: var(--fill-color);\n",
              "    animation:\n",
              "      spin 1s steps(1) infinite;\n",
              "  }\n",
              "\n",
              "  @keyframes spin {\n",
              "    0% {\n",
              "      border-color: transparent;\n",
              "      border-bottom-color: var(--fill-color);\n",
              "      border-left-color: var(--fill-color);\n",
              "    }\n",
              "    20% {\n",
              "      border-color: transparent;\n",
              "      border-left-color: var(--fill-color);\n",
              "      border-top-color: var(--fill-color);\n",
              "    }\n",
              "    30% {\n",
              "      border-color: transparent;\n",
              "      border-left-color: var(--fill-color);\n",
              "      border-top-color: var(--fill-color);\n",
              "      border-right-color: var(--fill-color);\n",
              "    }\n",
              "    40% {\n",
              "      border-color: transparent;\n",
              "      border-right-color: var(--fill-color);\n",
              "      border-top-color: var(--fill-color);\n",
              "    }\n",
              "    60% {\n",
              "      border-color: transparent;\n",
              "      border-right-color: var(--fill-color);\n",
              "    }\n",
              "    80% {\n",
              "      border-color: transparent;\n",
              "      border-right-color: var(--fill-color);\n",
              "      border-bottom-color: var(--fill-color);\n",
              "    }\n",
              "    90% {\n",
              "      border-color: transparent;\n",
              "      border-bottom-color: var(--fill-color);\n",
              "    }\n",
              "  }\n",
              "</style>\n",
              "\n",
              "  <script>\n",
              "    async function quickchart(key) {\n",
              "      const quickchartButtonEl =\n",
              "        document.querySelector('#' + key + ' button');\n",
              "      quickchartButtonEl.disabled = true;  // To prevent multiple clicks.\n",
              "      quickchartButtonEl.classList.add('colab-df-spinner');\n",
              "      try {\n",
              "        const charts = await google.colab.kernel.invokeFunction(\n",
              "            'suggestCharts', [key], {});\n",
              "      } catch (error) {\n",
              "        console.error('Error during call to suggestCharts:', error);\n",
              "      }\n",
              "      quickchartButtonEl.classList.remove('colab-df-spinner');\n",
              "      quickchartButtonEl.classList.add('colab-df-quickchart-complete');\n",
              "    }\n",
              "    (() => {\n",
              "      let quickchartButtonEl =\n",
              "        document.querySelector('#df-57781007-28d2-44a2-9819-d24e86955bf9 button');\n",
              "      quickchartButtonEl.style.display =\n",
              "        google.colab.kernel.accessAllowed ? 'block' : 'none';\n",
              "    })();\n",
              "  </script>\n",
              "</div>\n",
              "\n",
              "    </div>\n",
              "  </div>\n"
            ],
            "application/vnd.google.colaboratory.intrinsic+json": {
              "type": "dataframe",
              "summary": "{\n  \"name\": \"df\",\n  \"rows\": 8,\n  \"fields\": [\n    {\n      \"column\": \"Temperature\",\n      \"properties\": {\n        \"dtype\": \"number\",\n        \"std\": 345.9432657765999,\n        \"min\": 2.8368498400348523,\n        \"max\": 1000.0,\n        \"num_unique_values\": 8,\n        \"samples\": [\n          24.982026291058794,\n          24.751636889884217,\n          1000.0\n        ],\n        \"semantic_type\": \"\",\n        \"description\": \"\"\n      }\n    },\n    {\n      \"column\": \"Humidity\",\n      \"properties\": {\n        \"dtype\": \"number\",\n        \"std\": 339.7414912877238,\n        \"min\": 8.5189050495478,\n        \"max\": 1000.0,\n        \"num_unique_values\": 8,\n        \"samples\": [\n          45.39541178594965,\n          45.97211619015158,\n          1000.0\n        ],\n        \"semantic_type\": \"\",\n        \"description\": \"\"\n      }\n    },\n    {\n      \"column\": \"SquareFootage\",\n      \"properties\": {\n        \"dtype\": \"number\",\n        \"std\": 530.6682691450171,\n        \"min\": 288.4188731051356,\n        \"max\": 1999.982252131635,\n        \"num_unique_values\": 8,\n        \"samples\": [\n          1500.0524884883348,\n          1507.967426257272,\n          1000.0\n        ],\n        \"semantic_type\": \"\",\n        \"description\": \"\"\n      }\n    },\n    {\n      \"column\": \"Occupancy\",\n      \"properties\": {\n        \"dtype\": \"number\",\n        \"std\": 352.0269213226816,\n        \"min\": 0.0,\n        \"max\": 1000.0,\n        \"num_unique_values\": 8,\n        \"samples\": [\n          4.581,\n          5.0,\n          1000.0\n        ],\n        \"semantic_type\": \"\",\n        \"description\": \"\"\n      }\n    },\n    {\n      \"column\": \"RenewableEnergy\",\n      \"properties\": {\n        \"dtype\": \"number\",\n        \"std\": 348.6540802599579,\n        \"min\": 0.0066421051905973,\n        \"max\": 1000.0,\n        \"num_unique_values\": 8,\n        \"samples\": [\n          15.13281274796256,\n          15.072295633046846,\n          1000.0\n        ],\n        \"semantic_type\": \"\",\n        \"description\": \"\"\n      }\n    },\n    {\n      \"column\": \"EnergyConsumption\",\n      \"properties\": {\n        \"dtype\": \"number\",\n        \"std\": 330.9778312681469,\n        \"min\": 8.144111583554398,\n        \"max\": 1000.0,\n        \"num_unique_values\": 8,\n        \"samples\": [\n          77.05587286869279,\n          76.943696472395,\n          1000.0\n        ],\n        \"semantic_type\": \"\",\n        \"description\": \"\"\n      }\n    }\n  ]\n}"
            }
          },
          "metadata": {},
          "execution_count": 7
        }
      ]
    },
    {
      "cell_type": "markdown",
      "source": [
        "### Feature Distribution"
      ],
      "metadata": {
        "id": "5ZYuLlgiq4rn"
      }
    },
    {
      "cell_type": "markdown",
      "source": [
        "Distribusi fitur numerik divisualisasikan menggunakan histogram untuk mengetahui pola penyebaran data.   Langkah ini bertujuan untuk mengidentifikasi apakah data berdistribusi normal, miring (skewed), atau memiliki nilai ekstrem.\n"
      ],
      "metadata": {
        "id": "n2luRILHAx8m"
      }
    },
    {
      "cell_type": "code",
      "source": [
        "num_cols = df.select_dtypes(include=['int64', 'float64']).columns.tolist()\n",
        "\n",
        "# Visualisasi distribusi fitur\n",
        "for col in num_cols:\n",
        "    plt.figure(figsize=(5, 3))\n",
        "    sns.histplot(data=df, x=col, kde=True, bins=30)\n",
        "    plt.title(f'{col}')\n",
        "    plt.tight_layout()\n",
        "    plt.show()"
      ],
      "metadata": {
        "colab": {
          "base_uri": "https://localhost:8080/",
          "height": 1000
        },
        "id": "8dWjIippq6vd",
        "outputId": "9df47e6c-be11-40f7-eae7-da18bfde0ca3"
      },
      "execution_count": 8,
      "outputs": [
        {
          "output_type": "display_data",
          "data": {
            "text/plain": [
              "<Figure size 500x300 with 1 Axes>"
            ],
            "image/png": "[encoded data removed]"
          },
          "metadata": {}
        },
        {
          "output_type": "display_data",
          "data": {
            "text/plain": [
              "<Figure size 500x300 with 1 Axes>"
            ],
            "image/png": "[encoded data removed]"
          },
          "metadata": {}
        },
        {
          "output_type": "display_data",
          "data": {
            "text/plain": [
              "<Figure size 500x300 with 1 Axes>"
            ],
            "image/png": "[encoded data removed]"
          },
          "metadata": {}
        },
        {
          "output_type": "display_data",
          "data": {
            "text/plain": [
              "<Figure size 500x300 with 1 Axes>"
            ],
            "image/png": "[encoded data removed]"
          },
          "metadata": {}
        },
        {
          "output_type": "display_data",
          "data": {
            "text/plain": [
              "<Figure size 500x300 with 1 Axes>"
            ],
            "image/png": "[encoded data removed]"
          },
          "metadata": {}
        },
        {
          "output_type": "display_data",
          "data": {
            "text/plain": [
              "<Figure size 500x300 with 1 Axes>"
            ],
            "image/png": "[encoded data removed]"
          },
          "metadata": {}
        }
      ]
    },
    {
      "cell_type": "markdown",
      "source": [
        "### Feature Correlation Heatmap"
      ],
      "metadata": {
        "id": "kfFnJb1xrC3h"
      }
    },
    {
      "cell_type": "markdown",
      "source": [
        "Korelasi antar fitur numerik dianalisis menggunakan heatmap. Langkah ini bertujuan untuk memahami hubungan antar variabel dan mendeteksi fitur yang mungkin saling berkaitan kuat.\n"
      ],
      "metadata": {
        "id": "DkT9Hn_HFuEL"
      }
    },
    {
      "cell_type": "code",
      "source": [
        "# Visualisasi heatmap\n",
        "plt.figure(figsize=(10, 6))\n",
        "sns.heatmap(df[num_cols].corr(), annot=True, cmap='coolwarm', fmt=\".2f\")\n",
        "plt.title(\"Feature Correlation Heatmap\")\n",
        "plt.show()"
      ],
      "metadata": {
        "colab": {
          "base_uri": "https://localhost:8080/",
          "height": 671
        },
        "id": "Sb8Pb5fjrFwe",
        "outputId": "f49fc948-c6e4-489c-97bd-3ca9b97d11e3"
      },
      "execution_count": 9,
      "outputs": [
        {
          "output_type": "display_data",
          "data": {
            "text/plain": [
              "<Figure size 1000x600 with 2 Axes>"
            ],
            "image/png": "[encoded data removed]"
          },
          "metadata": {}
        }
      ]
    },
    {
      "cell_type": "markdown",
      "source": [
        "### Outlier Detection"
      ],
      "metadata": {
        "id": "nTqsnz5OAHWZ"
      }
    },
    {
      "cell_type": "markdown",
      "source": [
        "Outlier atau nilai ekstrem dideteksi menggunakan metode IQR (Interquartile Range). Langkah ini bertujuan untuk mengetahui apakah terdapat data yang menyimpang jauh dari mayoritas nilai lainnya."
      ],
      "metadata": {
        "id": "vGhcuDa1GADr"
      }
    },
    {
      "cell_type": "code",
      "source": [
        "# Ambil fitur numerik\n",
        "num_cols = ['Temperature', 'Humidity', 'SquareFootage', 'Occupancy', 'RenewableEnergy']\n",
        "\n",
        "# Simpan hasil outlier\n",
        "outlier_report = {}\n",
        "\n",
        "for col in num_cols:\n",
        "    Q1 = df[col].quantile(0.25)\n",
        "    Q3 = df[col].quantile(0.75)\n",
        "    IQR = Q3 - Q1\n",
        "    lower = Q1 - 1.5 * IQR\n",
        "    upper = Q3 + 1.5 * IQR\n",
        "    outliers = df[(df[col] < lower) | (df[col] > upper)]\n",
        "    outlier_report[col] = len(outliers)\n",
        "\n",
        "# Visualisasi boxplot\n",
        "for col in num_cols:\n",
        "    plt.figure(figsize=(5, 3))\n",
        "    sns.boxplot(x=df[col])\n",
        "    plt.title(f'Boxplot: {col}')\n",
        "    plt.tight_layout()\n",
        "    plt.show()"
      ],
      "metadata": {
        "colab": {
          "base_uri": "https://localhost:8080/",
          "height": 1000
        },
        "id": "Nmx18Z8lAIyv",
        "outputId": "b4054566-86ff-4894-ac62-0ef08cfbfd45"
      },
      "execution_count": 10,
      "outputs": [
        {
          "output_type": "display_data",
          "data": {
            "text/plain": [
              "<Figure size 500x300 with 1 Axes>"
            ],
            "image/png": "[encoded data removed]"
          },
          "metadata": {}
        },
        {
          "output_type": "display_data",
          "data": {
            "text/plain": [
              "<Figure size 500x300 with 1 Axes>"
            ],
            "image/png": "[encoded data removed]"
          },
          "metadata": {}
        },
        {
          "output_type": "display_data",
          "data": {
            "text/plain": [
              "<Figure size 500x300 with 1 Axes>"
            ],
            "image/png": "[encoded data removed]"
          },
          "metadata": {}
        },
        {
          "output_type": "display_data",
          "data": {
            "text/plain": [
              "<Figure size 500x300 with 1 Axes>"
            ],
            "image/png": "[encoded data removed]"
          },
          "metadata": {}
        },
        {
          "output_type": "display_data",
          "data": {
            "text/plain": [
              "<Figure size 500x300 with 1 Axes>"
            ],
            "image/png": "[encoded data removed]"
          },
          "metadata": {}
        }
      ]
    },
    {
      "cell_type": "markdown",
      "source": [
        "### Preprocessing"
      ],
      "metadata": {
        "id": "C61WZHXVqW99"
      }
    },
    {
      "cell_type": "markdown",
      "source": [
        "#### Feature Selection"
      ],
      "metadata": {
        "id": "2NIYL6yRKb0Z"
      }
    },
    {
      "cell_type": "markdown",
      "source": [
        "Pada tahap ini, dilakukan pemisahan antara variabel input (fitur/X) dan variabel yang ingin diprediksi (target/y). Fitur terdiri dari variabel-variabel yang diasumsikan memiliki pengaruh terhadap target. Sementara itu, target adalah variabel yang akan diprediksi oleh model, yaitu EnergyConsumption."
      ],
      "metadata": {
        "id": "W04FdtfUKf5K"
      }
    },
    {
      "cell_type": "code",
      "source": [
        "# Memisahkan fitur dan target\n",
        "features = [\n",
        "    'Temperature', 'Humidity', 'SquareFootage', 'Occupancy',\n",
        "    'HVACUsage', 'LightingUsage', 'RenewableEnergy',\n",
        "    'DayOfWeek', 'Holiday'\n",
        "]\n",
        "\n",
        "X = df[features]\n",
        "y = df['EnergyConsumption']"
      ],
      "metadata": {
        "id": "sUHlNaBEqYQD"
      },
      "execution_count": 11,
      "outputs": []
    },
    {
      "cell_type": "markdown",
      "source": [
        "#### Categorical Data Encoding & Numerical Data Scaling"
      ],
      "metadata": {
        "id": "mlPf6dP7KmXc"
      }
    },
    {
      "cell_type": "markdown",
      "source": [
        "Fitur numerik dilakukan standardisasi agar berada dalam skala yang sama. Sementara itu, fitur kategorikal diubah menggunakan one-hot encoding. Hal ini dilakukan agar fitur tersebut dapat diproses oleh algoritma machine learning.\n"
      ],
      "metadata": {
        "id": "-9XdHGXOG_97"
      }
    },
    {
      "cell_type": "code",
      "source": [
        "# Mendeteksi kolom numerikal dan kategorikal\n",
        "num_cols = ['Temperature', 'Humidity', 'SquareFootage', 'Occupancy', 'RenewableEnergy']\n",
        "cat_cols = ['HVACUsage', 'LightingUsage', 'DayOfWeek', 'Holiday']"
      ],
      "metadata": {
        "id": "q-uCeeA8qZDF"
      },
      "execution_count": 12,
      "outputs": []
    },
    {
      "cell_type": "code",
      "source": [
        "# Preprocessor\n",
        "preprocessor = ColumnTransformer([\n",
        "    ('num', StandardScaler(), num_cols),\n",
        "    ('cat', OneHotEncoder(handle_unknown='ignore'), cat_cols)\n",
        "])"
      ],
      "metadata": {
        "id": "IDvHf5FSr59q"
      },
      "execution_count": 13,
      "outputs": []
    },
    {
      "cell_type": "markdown",
      "source": [
        "#### Data Splitting"
      ],
      "metadata": {
        "id": "hJTweGgVLIIn"
      }
    },
    {
      "cell_type": "markdown",
      "source": [
        "Data dibagi menjadi dua bagian: data latih (training) dan data uji (testing) dengan rasio 80:20. Pembagian ini bertujuan untuk mengevaluasi performa model secara adil terhadap data yang belum pernah dilihat sebelumnya.\n"
      ],
      "metadata": {
        "id": "B83UwzhIHf5a"
      }
    },
    {
      "cell_type": "code",
      "source": [
        "# Membagi data ke dalam data latih dan data uji\n",
        "X_train, X_test, y_train, y_test = train_test_split(X, y, test_size=0.2, random_state=42)"
      ],
      "metadata": {
        "id": "YcU8YEtpqaik"
      },
      "execution_count": 14,
      "outputs": []
    },
    {
      "cell_type": "markdown",
      "source": [
        "## Modeling"
      ],
      "metadata": {
        "id": "017E1FOjH5rY"
      }
    },
    {
      "cell_type": "markdown",
      "source": [
        "Beberapa algoritma yang digunakan dalam proyek ini, yaitu:\n",
        "\n",
        "- **Ridge Regression**: regresi linear dengan regularisasi L2.\n",
        "- **Lasso Regression**: regresi linear dengan regularisasi L1.\n",
        "- **Random Forest Regressor**: algoritma ensambel berbasis Decision Tree yang cukup kuat terhadap outlier.\n",
        "- **XGBoost Regressor**: algoritma Boosting yang sering digunakan karena akurasinya yang tinggi dan efisiensinya.\n"
      ],
      "metadata": {
        "id": "sy3c9xOWHkj6"
      }
    },
    {
      "cell_type": "code",
      "source": [
        "# Model pipeline (default)\n",
        "baseline_models = {\n",
        "    \"Ridge Regression\": Pipeline([\n",
        "        (\"preprocessor\", preprocessor),\n",
        "        (\"model\", Ridge())\n",
        "    ]),\n",
        "    \"Lasso Regression\": Pipeline([\n",
        "        (\"preprocessor\", preprocessor),\n",
        "        (\"model\", Lasso())\n",
        "    ]),\n",
        "    \"Random Forest\": Pipeline([\n",
        "        (\"preprocessor\", preprocessor),\n",
        "        (\"model\", RandomForestRegressor(random_state=42))\n",
        "    ]),\n",
        "    \"XGBoost\": Pipeline([\n",
        "        (\"preprocessor\", preprocessor),\n",
        "        (\"model\", XGBRegressor(eval_metric=\"rmse\", random_state=42))\n",
        "    ])\n",
        "}"
      ],
      "metadata": {
        "id": "Y3w6GlLaLoht"
      },
      "execution_count": 15,
      "outputs": []
    },
    {
      "cell_type": "markdown",
      "source": [
        "#### Hyperparameter Tuning"
      ],
      "metadata": {
        "id": "-KmcePxjbwdw"
      }
    },
    {
      "cell_type": "markdown",
      "source": [
        "Tuning dilakukan untuk mengoptimalkan parameter secara efisien dan menghindari overfitting. Seluruh model dituning menggunakan RandomizedSearchCV untuk meningkatkan performa prediksi dan dibandingkan dengan hasil baseline.\n"
      ],
      "metadata": {
        "id": "GK26F_1aLOZM"
      }
    },
    {
      "cell_type": "code",
      "source": [
        "# Dictionary model hasil tuning\n",
        "tuned_models = {}\n",
        "\n",
        "# 1. Ridge Regression (tuning alpha = regularisasi)\n",
        "ridge = Ridge()\n",
        "param_ridge = {'alpha': [0.01, 0.1, 1, 10, 100]}\n",
        "rs_ridge = RandomizedSearchCV(ridge, param_ridge, n_iter=5, scoring='neg_root_mean_squared_error', cv=5, random_state=42)\n",
        "rs_ridge.fit(preprocessor.fit_transform(X), y)\n",
        "tuned_models[\"Ridge Regression\"] = Pipeline([(\"preprocess\", preprocessor), (\"model\", rs_ridge.best_estimator_)])\n",
        "\n",
        "# 2. Lasso Regression\n",
        "lasso = Lasso()\n",
        "param_lasso = {'alpha': [0.01, 0.1, 1, 10, 100]}\n",
        "rs_lasso = RandomizedSearchCV(lasso, param_lasso, n_iter=5, scoring='neg_root_mean_squared_error', cv=5, random_state=42)\n",
        "rs_lasso.fit(preprocessor.fit_transform(X), y)\n",
        "tuned_models[\"Lasso Regression\"] = Pipeline([(\"preprocess\", preprocessor), (\"model\", rs_lasso.best_estimator_)])\n",
        "\n",
        "# 3. Random Forest\n",
        "rf = RandomForestRegressor(random_state=42)\n",
        "param_rf = {\n",
        "    'n_estimators': [100, 150, 200],\n",
        "    'max_depth': [4, 6, 8, 10],\n",
        "    'min_samples_split': [2, 5, 10]\n",
        "}\n",
        "rs_rf = RandomizedSearchCV(rf, param_rf, n_iter=5, scoring='neg_root_mean_squared_error', cv=5, random_state=42)\n",
        "rs_rf.fit(preprocessor.fit_transform(X), y)\n",
        "tuned_models[\"Random Forest\"] = Pipeline([(\"preprocess\", preprocessor), (\"model\", rs_rf.best_estimator_)])\n",
        "\n",
        "# 4. XGBoost\n",
        "xgb = XGBRegressor(eval_metric='rmse', random_state=42)\n",
        "param_xgb = {\n",
        "    'n_estimators': [100, 150, 200],\n",
        "    'max_depth': [3, 4, 5],\n",
        "    'learning_rate': [0.01, 0.05, 0.1],\n",
        "    'subsample': [0.8, 1.0]\n",
        "}\n",
        "rs_xgb = RandomizedSearchCV(xgb, param_xgb, n_iter=5, scoring='neg_root_mean_squared_error', cv=5, random_state=42)\n",
        "rs_xgb.fit(preprocessor.fit_transform(X), y)\n",
        "tuned_models[\"XGBoost\"] = Pipeline([(\"preprocess\", preprocessor), (\"model\", rs_xgb.best_estimator_)])\n"
      ],
      "metadata": {
        "id": "KQFyIg9d32r0"
      },
      "execution_count": 16,
      "outputs": []
    },
    {
      "cell_type": "code",
      "source": [
        "# Parameter terbaik dari RandomizedSearchCV\n",
        "print(\"Ridge Regression:\", rs_ridge.best_params_)\n",
        "print(\"Lasso Regression:\", rs_lasso.best_params_)\n",
        "print(\"Random Forest   :\", rs_rf.best_params_)\n",
        "print(\"XGBoost         :\", rs_xgb.best_params_)"
      ],
      "metadata": {
        "colab": {
          "base_uri": "https://localhost:8080/"
        },
        "id": "kpdnbkP73ep-",
        "outputId": "270b2277-7fa4-4b89-87c0-e330d4bfd337"
      },
      "execution_count": 17,
      "outputs": [
        {
          "output_type": "stream",
          "name": "stdout",
          "text": [
            "Ridge Regression: {'alpha': 10}\n",
            "Lasso Regression: {'alpha': 0.01}\n",
            "Random Forest   : {'n_estimators': 200, 'min_samples_split': 10, 'max_depth': 8}\n",
            "XGBoost         : {'subsample': 1.0, 'n_estimators': 100, 'max_depth': 3, 'learning_rate': 0.05}\n"
          ]
        }
      ]
    },
    {
      "cell_type": "markdown",
      "source": [
        "## Model Evaluation"
      ],
      "metadata": {
        "id": "oWpnINLk4i87"
      }
    },
    {
      "cell_type": "markdown",
      "source": [
        "Evaluasi dilakukan menggunakan tiga metrik regresi utama, yaitu:\n",
        "\n",
        "- **MAE (Mean Absolute Error)**: rata-rata selisih absolut antara nilai prediksi dan nilai asli.\n",
        "- **RMSE (Root Mean Squared Error)**: mengukur besarnya error dengan penalti lebih besar untuk kesalahan besar.\n",
        "- **R-squared Score**: proporsi variansi dalam target yang dapat dijelaskan oleh model.\n",
        "\n",
        "Ketiga metrik ini digunakan untuk menilai sejauh mana prediksi model mendekati nilai asli.\n"
      ],
      "metadata": {
        "id": "UNTELrorHwEJ"
      }
    },
    {
      "cell_type": "markdown",
      "source": [
        "#### Model with Default Parameter"
      ],
      "metadata": {
        "id": "IQxbU8O8L5-C"
      }
    },
    {
      "cell_type": "code",
      "source": [
        "# Evaluasi hasil baseline\n",
        "baseline_results = []\n",
        "\n",
        "for name, model in baseline_models.items():\n",
        "    model.fit(X_train, y_train)\n",
        "    y_pred = model.predict(X_test)\n",
        "\n",
        "    baseline_results.append({\n",
        "        \"Model\": name,\n",
        "        \"MAE\": mean_absolute_error(y_test, y_pred),\n",
        "        \"RMSE\": mean_squared_error(y_test, y_pred),\n",
        "        \"R-squared\": r2_score(y_test, y_pred)\n",
        "    })\n",
        "\n",
        "# DataFrame hasil baseline\n",
        "baseline_df = pd.DataFrame(baseline_results).sort_values(by=\"RMSE\")\n",
        "baseline_df"
      ],
      "metadata": {
        "colab": {
          "base_uri": "https://localhost:8080/",
          "height": 175
        },
        "id": "ajcRs4fOL0om",
        "outputId": "2b054bf1-199e-4ff4-f304-e0d11dfdba51"
      },
      "execution_count": 18,
      "outputs": [
        {
          "output_type": "execute_result",
          "data": {
            "text/plain": [
              "              Model       MAE       RMSE  R-squared\n",
              "0  Ridge Regression  4.120552  26.545813   0.594720\n",
              "2     Random Forest  4.406813  29.947678   0.542783\n",
              "3           XGBoost  4.598994  33.429241   0.489629\n",
              "1  Lasso Regression  4.586567  33.838268   0.483384"
            ],
            "text/html": [
              "\n",
              "  <div id=\"df-3c976201-d323-4192-b2f5-9737b4cfaefe\" class=\"colab-df-container\">\n",
              "    <div>\n",
              "<style scoped>\n",
              "    .dataframe tbody tr th:only-of-type {\n",
              "        vertical-align: middle;\n",
              "    }\n",
              "\n",
              "    .dataframe tbody tr th {\n",
              "        vertical-align: top;\n",
              "    }\n",
              "\n",
              "    .dataframe thead th {\n",
              "        text-align: right;\n",
              "    }\n",
              "</style>\n",
              "<table border=\"1\" class=\"dataframe\">\n",
              "  <thead>\n",
              "    <tr style=\"text-align: right;\">\n",
              "      <th></th>\n",
              "      <th>Model</th>\n",
              "      <th>MAE</th>\n",
              "      <th>RMSE</th>\n",
              "      <th>R-squared</th>\n",
              "    </tr>\n",
              "  </thead>\n",
              "  <tbody>\n",
              "    <tr>\n",
              "      <th>0</th>\n",
              "      <td>Ridge Regression</td>\n",
              "      <td>4.120552</td>\n",
              "      <td>26.545813</td>\n",
              "      <td>0.594720</td>\n",
              "    </tr>\n",
              "    <tr>\n",
              "      <th>2</th>\n",
              "      <td>Random Forest</td>\n",
              "      <td>4.406813</td>\n",
              "      <td>29.947678</td>\n",
              "      <td>0.542783</td>\n",
              "    </tr>\n",
              "    <tr>\n",
              "      <th>3</th>\n",
              "      <td>XGBoost</td>\n",
              "      <td>4.598994</td>\n",
              "      <td>33.429241</td>\n",
              "      <td>0.489629</td>\n",
              "    </tr>\n",
              "    <tr>\n",
              "      <th>1</th>\n",
              "      <td>Lasso Regression</td>\n",
              "      <td>4.586567</td>\n",
              "      <td>33.838268</td>\n",
              "      <td>0.483384</td>\n",
              "    </tr>\n",
              "  </tbody>\n",
              "</table>\n",
              "</div>\n",
              "    <div class=\"colab-df-buttons\">\n",
              "\n",
              "  <div class=\"colab-df-container\">\n",
              "    <button class=\"colab-df-convert\" onclick=\"convertToInteractive('df-3c976201-d323-4192-b2f5-9737b4cfaefe')\"\n",
              "            title=\"Convert this dataframe to an interactive table.\"\n",
              "            style=\"display:none;\">\n",
              "\n",
              "  <svg xmlns=\"http://www.w3.org/2000/svg\" height=\"24px\" viewBox=\"0 -960 960 960\">\n",
              "    <path d=\"M120-120v-720h720v720H120Zm60-500h600v-160H180v160Zm220 220h160v-160H400v160Zm0 220h160v-160H400v160ZM180-400h160v-160H180v160Zm440 0h160v-160H620v160ZM180-180h160v-160H180v160Zm440 0h160v-160H620v160Z\"/>\n",
              "  </svg>\n",
              "    </button>\n",
              "\n",
              "  <style>\n",
              "    .colab-df-container {\n",
              "      display:flex;\n",
              "      gap: 12px;\n",
              "    }\n",
              "\n",
              "    .colab-df-convert {\n",
              "      background-color: #E8F0FE;\n",
              "      border: none;\n",
              "      border-radius: 50%;\n",
              "      cursor: pointer;\n",
              "      display: none;\n",
              "      fill: #1967D2;\n",
              "      height: 32px;\n",
              "      padding: 0 0 0 0;\n",
              "      width: 32px;\n",
              "    }\n",
              "\n",
              "    .colab-df-convert:hover {\n",
              "      background-color: #E2EBFA;\n",
              "      box-shadow: 0px 1px 2px rgba(60, 64, 67, 0.3), 0px 1px 3px 1px rgba(60, 64, 67, 0.15);\n",
              "      fill: #174EA6;\n",
              "    }\n",
              "\n",
              "    .colab-df-buttons div {\n",
              "      margin-bottom: 4px;\n",
              "    }\n",
              "\n",
              "    [theme=dark] .colab-df-convert {\n",
              "      background-color: #3B4455;\n",
              "      fill: #D2E3FC;\n",
              "    }\n",
              "\n",
              "    [theme=dark] .colab-df-convert:hover {\n",
              "      background-color: #434B5C;\n",
              "      box-shadow: 0px 1px 3px 1px rgba(0, 0, 0, 0.15);\n",
              "      filter: drop-shadow(0px 1px 2px rgba(0, 0, 0, 0.3));\n",
              "      fill: #FFFFFF;\n",
              "    }\n",
              "  </style>\n",
              "\n",
              "    <script>\n",
              "      const buttonEl =\n",
              "        document.querySelector('#df-3c976201-d323-4192-b2f5-9737b4cfaefe button.colab-df-convert');\n",
              "      buttonEl.style.display =\n",
              "        google.colab.kernel.accessAllowed ? 'block' : 'none';\n",
              "\n",
              "      async function convertToInteractive(key) {\n",
              "        const element = document.querySelector('#df-3c976201-d323-4192-b2f5-9737b4cfaefe');\n",
              "        const dataTable =\n",
              "          await google.colab.kernel.invokeFunction('convertToInteractive',\n",
              "                                                    [key], {});\n",
              "        if (!dataTable) return;\n",
              "\n",
              "        const docLinkHtml = 'Like what you see? Visit the ' +\n",
              "          '<a target=\"_blank\" href=https://colab.research.google.com/notebooks/data_table.ipynb>data table notebook</a>'\n",
              "          + ' to learn more about interactive tables.';\n",
              "        element.innerHTML = '';\n",
              "        dataTable['output_type'] = 'display_data';\n",
              "        await google.colab.output.renderOutput(dataTable, element);\n",
              "        const docLink = document.createElement('div');\n",
              "        docLink.innerHTML = docLinkHtml;\n",
              "        element.appendChild(docLink);\n",
              "      }\n",
              "    </script>\n",
              "  </div>\n",
              "\n",
              "\n",
              "<div id=\"df-7ae7cf86-781f-4ddc-ae15-e1d3df6eddaa\">\n",
              "  <button class=\"colab-df-quickchart\" onclick=\"quickchart('df-7ae7cf86-781f-4ddc-ae15-e1d3df6eddaa')\"\n",
              "            title=\"Suggest charts\"\n",
              "            style=\"display:none;\">\n",
              "\n",
              "<svg xmlns=\"http://www.w3.org/2000/svg\" height=\"24px\"viewBox=\"0 0 24 24\"\n",
              "     width=\"24px\">\n",
              "    <g>\n",
              "        <path d=\"M19 3H5c-1.1 0-2 .9-2 2v14c0 1.1.9 2 2 2h14c1.1 0 2-.9 2-2V5c0-1.1-.9-2-2-2zM9 17H7v-7h2v7zm4 0h-2V7h2v10zm4 0h-2v-4h2v4z\"/>\n",
              "    </g>\n",
              "</svg>\n",
              "  </button>\n",
              "\n",
              "<style>\n",
              "  .colab-df-quickchart {\n",
              "      --bg-color: #E8F0FE;\n",
              "      --fill-color: #1967D2;\n",
              "      --hover-bg-color: #E2EBFA;\n",
              "      --hover-fill-color: #174EA6;\n",
              "      --disabled-fill-color: #AAA;\n",
              "      --disabled-bg-color: #DDD;\n",
              "  }\n",
              "\n",
              "  [theme=dark] .colab-df-quickchart {\n",
              "      --bg-color: #3B4455;\n",
              "      --fill-color: #D2E3FC;\n",
              "      --hover-bg-color: #434B5C;\n",
              "      --hover-fill-color: #FFFFFF;\n",
              "      --disabled-bg-color: #3B4455;\n",
              "      --disabled-fill-color: #666;\n",
              "  }\n",
              "\n",
              "  .colab-df-quickchart {\n",
              "    background-color: var(--bg-color);\n",
              "    border: none;\n",
              "    border-radius: 50%;\n",
              "    cursor: pointer;\n",
              "    display: none;\n",
              "    fill: var(--fill-color);\n",
              "    height: 32px;\n",
              "    padding: 0;\n",
              "    width: 32px;\n",
              "  }\n",
              "\n",
              "  .colab-df-quickchart:hover {\n",
              "    background-color: var(--hover-bg-color);\n",
              "    box-shadow: 0 1px 2px rgba(60, 64, 67, 0.3), 0 1px 3px 1px rgba(60, 64, 67, 0.15);\n",
              "    fill: var(--button-hover-fill-color);\n",
              "  }\n",
              "\n",
              "  .colab-df-quickchart-complete:disabled,\n",
              "  .colab-df-quickchart-complete:disabled:hover {\n",
              "    background-color: var(--disabled-bg-color);\n",
              "    fill: var(--disabled-fill-color);\n",
              "    box-shadow: none;\n",
              "  }\n",
              "\n",
              "  .colab-df-spinner {\n",
              "    border: 2px solid var(--fill-color);\n",
              "    border-color: transparent;\n",
              "    border-bottom-color: var(--fill-color);\n",
              "    animation:\n",
              "      spin 1s steps(1) infinite;\n",
              "  }\n",
              "\n",
              "  @keyframes spin {\n",
              "    0% {\n",
              "      border-color: transparent;\n",
              "      border-bottom-color: var(--fill-color);\n",
              "      border-left-color: var(--fill-color);\n",
              "    }\n",
              "    20% {\n",
              "      border-color: transparent;\n",
              "      border-left-color: var(--fill-color);\n",
              "      border-top-color: var(--fill-color);\n",
              "    }\n",
              "    30% {\n",
              "      border-color: transparent;\n",
              "      border-left-color: var(--fill-color);\n",
              "      border-top-color: var(--fill-color);\n",
              "      border-right-color: var(--fill-color);\n",
              "    }\n",
              "    40% {\n",
              "      border-color: transparent;\n",
              "      border-right-color: var(--fill-color);\n",
              "      border-top-color: var(--fill-color);\n",
              "    }\n",
              "    60% {\n",
              "      border-color: transparent;\n",
              "      border-right-color: var(--fill-color);\n",
              "    }\n",
              "    80% {\n",
              "      border-color: transparent;\n",
              "      border-right-color: var(--fill-color);\n",
              "      border-bottom-color: var(--fill-color);\n",
              "    }\n",
              "    90% {\n",
              "      border-color: transparent;\n",
              "      border-bottom-color: var(--fill-color);\n",
              "    }\n",
              "  }\n",
              "</style>\n",
              "\n",
              "  <script>\n",
              "    async function quickchart(key) {\n",
              "      const quickchartButtonEl =\n",
              "        document.querySelector('#' + key + ' button');\n",
              "      quickchartButtonEl.disabled = true;  // To prevent multiple clicks.\n",
              "      quickchartButtonEl.classList.add('colab-df-spinner');\n",
              "      try {\n",
              "        const charts = await google.colab.kernel.invokeFunction(\n",
              "            'suggestCharts', [key], {});\n",
              "      } catch (error) {\n",
              "        console.error('Error during call to suggestCharts:', error);\n",
              "      }\n",
              "      quickchartButtonEl.classList.remove('colab-df-spinner');\n",
              "      quickchartButtonEl.classList.add('colab-df-quickchart-complete');\n",
              "    }\n",
              "    (() => {\n",
              "      let quickchartButtonEl =\n",
              "        document.querySelector('#df-7ae7cf86-781f-4ddc-ae15-e1d3df6eddaa button');\n",
              "      quickchartButtonEl.style.display =\n",
              "        google.colab.kernel.accessAllowed ? 'block' : 'none';\n",
              "    })();\n",
              "  </script>\n",
              "</div>\n",
              "\n",
              "  <div id=\"id_8d21a828-29d4-4f3e-9ba9-5e6e40ff0a10\">\n",
              "    <style>\n",
              "      .colab-df-generate {\n",
              "        background-color: #E8F0FE;\n",
              "        border: none;\n",
              "        border-radius: 50%;\n",
              "        cursor: pointer;\n",
              "        display: none;\n",
              "        fill: #1967D2;\n",
              "        height: 32px;\n",
              "        padding: 0 0 0 0;\n",
              "        width: 32px;\n",
              "      }\n",
              "\n",
              "      .colab-df-generate:hover {\n",
              "        background-color: #E2EBFA;\n",
              "        box-shadow: 0px 1px 2px rgba(60, 64, 67, 0.3), 0px 1px 3px 1px rgba(60, 64, 67, 0.15);\n",
              "        fill: #174EA6;\n",
              "      }\n",
              "\n",
              "      [theme=dark] .colab-df-generate {\n",
              "        background-color: #3B4455;\n",
              "        fill: #D2E3FC;\n",
              "      }\n",
              "\n",
              "      [theme=dark] .colab-df-generate:hover {\n",
              "        background-color: #434B5C;\n",
              "        box-shadow: 0px 1px 3px 1px rgba(0, 0, 0, 0.15);\n",
              "        filter: drop-shadow(0px 1px 2px rgba(0, 0, 0, 0.3));\n",
              "        fill: #FFFFFF;\n",
              "      }\n",
              "    </style>\n",
              "    <button class=\"colab-df-generate\" onclick=\"generateWithVariable('baseline_df')\"\n",
              "            title=\"Generate code using this dataframe.\"\n",
              "            style=\"display:none;\">\n",
              "\n",
              "  <svg xmlns=\"http://www.w3.org/2000/svg\" height=\"24px\"viewBox=\"0 0 24 24\"\n",
              "       width=\"24px\">\n",
              "    <path d=\"M7,19H8.4L18.45,9,17,7.55,7,17.6ZM5,21V16.75L18.45,3.32a2,2,0,0,1,2.83,0l1.4,1.43a1.91,1.91,0,0,1,.58,1.4,1.91,1.91,0,0,1-.58,1.4L9.25,21ZM18.45,9,17,7.55Zm-12,3A5.31,5.31,0,0,0,4.9,8.1,5.31,5.31,0,0,0,1,6.5,5.31,5.31,0,0,0,4.9,4.9,5.31,5.31,0,0,0,6.5,1,5.31,5.31,0,0,0,8.1,4.9,5.31,5.31,0,0,0,12,6.5,5.46,5.46,0,0,0,6.5,12Z\"/>\n",
              "  </svg>\n",
              "    </button>\n",
              "    <script>\n",
              "      (() => {\n",
              "      const buttonEl =\n",
              "        document.querySelector('#id_8d21a828-29d4-4f3e-9ba9-5e6e40ff0a10 button.colab-df-generate');\n",
              "      buttonEl.style.display =\n",
              "        google.colab.kernel.accessAllowed ? 'block' : 'none';\n",
              "\n",
              "      buttonEl.onclick = () => {\n",
              "        google.colab.notebook.generateWithVariable('baseline_df');\n",
              "      }\n",
              "      })();\n",
              "    </script>\n",
              "  </div>\n",
              "\n",
              "    </div>\n",
              "  </div>\n"
            ],
            "application/vnd.google.colaboratory.intrinsic+json": {
              "type": "dataframe",
              "variable_name": "baseline_df",
              "summary": "{\n  \"name\": \"baseline_df\",\n  \"rows\": 4,\n  \"fields\": [\n    {\n      \"column\": \"Model\",\n      \"properties\": {\n        \"dtype\": \"string\",\n        \"num_unique_values\": 4,\n        \"samples\": [\n          \"Random Forest\",\n          \"Lasso Regression\",\n          \"Ridge Regression\"\n        ],\n        \"semantic_type\": \"\",\n        \"description\": \"\"\n      }\n    },\n    {\n      \"column\": \"MAE\",\n      \"properties\": {\n        \"dtype\": \"number\",\n        \"std\": 0.22312601562128348,\n        \"min\": 4.120551717804587,\n        \"max\": 4.598994350411183,\n        \"num_unique_values\": 4,\n        \"samples\": [\n          4.406812620621577,\n          4.586566867795514,\n          4.120551717804587\n        ],\n        \"semantic_type\": \"\",\n        \"description\": \"\"\n      }\n    },\n    {\n      \"column\": \"RMSE\",\n      \"properties\": {\n        \"dtype\": \"number\",\n        \"std\": 3.4102717899291886,\n        \"min\": 26.54581315557576,\n        \"max\": 33.8382683081925,\n        \"num_unique_values\": 4,\n        \"samples\": [\n          29.947677697259383,\n          33.8382683081925,\n          26.54581315557576\n        ],\n        \"semantic_type\": \"\",\n        \"description\": \"\"\n      }\n    },\n    {\n      \"column\": \"R-squared\",\n      \"properties\": {\n        \"dtype\": \"number\",\n        \"std\": 0.05206531710136005,\n        \"min\": 0.4833842349956726,\n        \"max\": 0.5947196397249013,\n        \"num_unique_values\": 4,\n        \"samples\": [\n          0.5427826778024885,\n          0.4833842349956726,\n          0.5947196397249013\n        ],\n        \"semantic_type\": \"\",\n        \"description\": \"\"\n      }\n    }\n  ]\n}"
            }
          },
          "metadata": {},
          "execution_count": 18
        }
      ]
    },
    {
      "cell_type": "markdown",
      "source": [
        "#### Model with Tuned Parameter"
      ],
      "metadata": {
        "id": "qqdbSFYnL-9S"
      }
    },
    {
      "cell_type": "code",
      "source": [
        "# Evaluasi hasil tuning model\n",
        "\n",
        "tuning_results = []\n",
        "\n",
        "for name, pipe in tuned_models.items():\n",
        "    X_train, X_test, y_train, y_test = train_test_split(X, y, test_size=0.2, random_state=42)\n",
        "    pipe.fit(X_train, y_train)\n",
        "    y_pred = pipe.predict(X_test)\n",
        "\n",
        "    mae = mean_absolute_error(y_test, y_pred)\n",
        "    rmse = mean_squared_error(y_test, y_pred)\n",
        "    r2 = r2_score(y_test, y_pred)\n",
        "\n",
        "    tuning_results.append({\n",
        "        \"Model\": name,\n",
        "        \"MAE\": mae,\n",
        "        \"RMSE\": rmse,\n",
        "        \"R-squared\": r2\n",
        "    })\n",
        "\n",
        "# Buat DataFrame\n",
        "results_df = pd.DataFrame(tuning_results).sort_values(by=\"RMSE\")\n",
        "results_df"
      ],
      "metadata": {
        "colab": {
          "base_uri": "https://localhost:8080/",
          "height": 175
        },
        "id": "f7epp0Vg4Lnc",
        "outputId": "41443c2e-d0cc-4193-dda5-d1e7973f53e7"
      },
      "execution_count": 19,
      "outputs": [
        {
          "output_type": "execute_result",
          "data": {
            "text/plain": [
              "              Model       MAE       RMSE  R-squared\n",
              "1  Lasso Regression  4.117428  26.436252   0.596392\n",
              "0  Ridge Regression  4.122980  26.545545   0.594724\n",
              "2     Random Forest  4.329295  29.408117   0.551020\n",
              "3           XGBoost  4.350972  29.873424   0.543916"
            ],
            "text/html": [
              "\n",
              "  <div id=\"df-cd627a6e-d48c-4cc7-a26e-1943d4df59d2\" class=\"colab-df-container\">\n",
              "    <div>\n",
              "<style scoped>\n",
              "    .dataframe tbody tr th:only-of-type {\n",
              "        vertical-align: middle;\n",
              "    }\n",
              "\n",
              "    .dataframe tbody tr th {\n",
              "        vertical-align: top;\n",
              "    }\n",
              "\n",
              "    .dataframe thead th {\n",
              "        text-align: right;\n",
              "    }\n",
              "</style>\n",
              "<table border=\"1\" class=\"dataframe\">\n",
              "  <thead>\n",
              "    <tr style=\"text-align: right;\">\n",
              "      <th></th>\n",
              "      <th>Model</th>\n",
              "      <th>MAE</th>\n",
              "      <th>RMSE</th>\n",
              "      <th>R-squared</th>\n",
              "    </tr>\n",
              "  </thead>\n",
              "  <tbody>\n",
              "    <tr>\n",
              "      <th>1</th>\n",
              "      <td>Lasso Regression</td>\n",
              "      <td>4.117428</td>\n",
              "      <td>26.436252</td>\n",
              "      <td>0.596392</td>\n",
              "    </tr>\n",
              "    <tr>\n",
              "      <th>0</th>\n",
              "      <td>Ridge Regression</td>\n",
              "      <td>4.122980</td>\n",
              "      <td>26.545545</td>\n",
              "      <td>0.594724</td>\n",
              "    </tr>\n",
              "    <tr>\n",
              "      <th>2</th>\n",
              "      <td>Random Forest</td>\n",
              "      <td>4.329295</td>\n",
              "      <td>29.408117</td>\n",
              "      <td>0.551020</td>\n",
              "    </tr>\n",
              "    <tr>\n",
              "      <th>3</th>\n",
              "      <td>XGBoost</td>\n",
              "      <td>4.350972</td>\n",
              "      <td>29.873424</td>\n",
              "      <td>0.543916</td>\n",
              "    </tr>\n",
              "  </tbody>\n",
              "</table>\n",
              "</div>\n",
              "    <div class=\"colab-df-buttons\">\n",
              "\n",
              "  <div class=\"colab-df-container\">\n",
              "    <button class=\"colab-df-convert\" onclick=\"convertToInteractive('df-cd627a6e-d48c-4cc7-a26e-1943d4df59d2')\"\n",
              "            title=\"Convert this dataframe to an interactive table.\"\n",
              "            style=\"display:none;\">\n",
              "\n",
              "  <svg xmlns=\"http://www.w3.org/2000/svg\" height=\"24px\" viewBox=\"0 -960 960 960\">\n",
              "    <path d=\"M120-120v-720h720v720H120Zm60-500h600v-160H180v160Zm220 220h160v-160H400v160Zm0 220h160v-160H400v160ZM180-400h160v-160H180v160Zm440 0h160v-160H620v160ZM180-180h160v-160H180v160Zm440 0h160v-160H620v160Z\"/>\n",
              "  </svg>\n",
              "    </button>\n",
              "\n",
              "  <style>\n",
              "    .colab-df-container {\n",
              "      display:flex;\n",
              "      gap: 12px;\n",
              "    }\n",
              "\n",
              "    .colab-df-convert {\n",
              "      background-color: #E8F0FE;\n",
              "      border: none;\n",
              "      border-radius: 50%;\n",
              "      cursor: pointer;\n",
              "      display: none;\n",
              "      fill: #1967D2;\n",
              "      height: 32px;\n",
              "      padding: 0 0 0 0;\n",
              "      width: 32px;\n",
              "    }\n",
              "\n",
              "    .colab-df-convert:hover {\n",
              "      background-color: #E2EBFA;\n",
              "      box-shadow: 0px 1px 2px rgba(60, 64, 67, 0.3), 0px 1px 3px 1px rgba(60, 64, 67, 0.15);\n",
              "      fill: #174EA6;\n",
              "    }\n",
              "\n",
              "    .colab-df-buttons div {\n",
              "      margin-bottom: 4px;\n",
              "    }\n",
              "\n",
              "    [theme=dark] .colab-df-convert {\n",
              "      background-color: #3B4455;\n",
              "      fill: #D2E3FC;\n",
              "    }\n",
              "\n",
              "    [theme=dark] .colab-df-convert:hover {\n",
              "      background-color: #434B5C;\n",
              "      box-shadow: 0px 1px 3px 1px rgba(0, 0, 0, 0.15);\n",
              "      filter: drop-shadow(0px 1px 2px rgba(0, 0, 0, 0.3));\n",
              "      fill: #FFFFFF;\n",
              "    }\n",
              "  </style>\n",
              "\n",
              "    <script>\n",
              "      const buttonEl =\n",
              "        document.querySelector('#df-cd627a6e-d48c-4cc7-a26e-1943d4df59d2 button.colab-df-convert');\n",
              "      buttonEl.style.display =\n",
              "        google.colab.kernel.accessAllowed ? 'block' : 'none';\n",
              "\n",
              "      async function convertToInteractive(key) {\n",
              "        const element = document.querySelector('#df-cd627a6e-d48c-4cc7-a26e-1943d4df59d2');\n",
              "        const dataTable =\n",
              "          await google.colab.kernel.invokeFunction('convertToInteractive',\n",
              "                                                    [key], {});\n",
              "        if (!dataTable) return;\n",
              "\n",
              "        const docLinkHtml = 'Like what you see? Visit the ' +\n",
              "          '<a target=\"_blank\" href=https://colab.research.google.com/notebooks/data_table.ipynb>data table notebook</a>'\n",
              "          + ' to learn more about interactive tables.';\n",
              "        element.innerHTML = '';\n",
              "        dataTable['output_type'] = 'display_data';\n",
              "        await google.colab.output.renderOutput(dataTable, element);\n",
              "        const docLink = document.createElement('div');\n",
              "        docLink.innerHTML = docLinkHtml;\n",
              "        element.appendChild(docLink);\n",
              "      }\n",
              "    </script>\n",
              "  </div>\n",
              "\n",
              "\n",
              "<div id=\"df-855b23f4-3c15-47d8-836c-974b9fbf8d43\">\n",
              "  <button class=\"colab-df-quickchart\" onclick=\"quickchart('df-855b23f4-3c15-47d8-836c-974b9fbf8d43')\"\n",
              "            title=\"Suggest charts\"\n",
              "            style=\"display:none;\">\n",
              "\n",
              "<svg xmlns=\"http://www.w3.org/2000/svg\" height=\"24px\"viewBox=\"0 0 24 24\"\n",
              "     width=\"24px\">\n",
              "    <g>\n",
              "        <path d=\"M19 3H5c-1.1 0-2 .9-2 2v14c0 1.1.9 2 2 2h14c1.1 0 2-.9 2-2V5c0-1.1-.9-2-2-2zM9 17H7v-7h2v7zm4 0h-2V7h2v10zm4 0h-2v-4h2v4z\"/>\n",
              "    </g>\n",
              "</svg>\n",
              "  </button>\n",
              "\n",
              "<style>\n",
              "  .colab-df-quickchart {\n",
              "      --bg-color: #E8F0FE;\n",
              "      --fill-color: #1967D2;\n",
              "      --hover-bg-color: #E2EBFA;\n",
              "      --hover-fill-color: #174EA6;\n",
              "      --disabled-fill-color: #AAA;\n",
              "      --disabled-bg-color: #DDD;\n",
              "  }\n",
              "\n",
              "  [theme=dark] .colab-df-quickchart {\n",
              "      --bg-color: #3B4455;\n",
              "      --fill-color: #D2E3FC;\n",
              "      --hover-bg-color: #434B5C;\n",
              "      --hover-fill-color: #FFFFFF;\n",
              "      --disabled-bg-color: #3B4455;\n",
              "      --disabled-fill-color: #666;\n",
              "  }\n",
              "\n",
              "  .colab-df-quickchart {\n",
              "    background-color: var(--bg-color);\n",
              "    border: none;\n",
              "    border-radius: 50%;\n",
              "    cursor: pointer;\n",
              "    display: none;\n",
              "    fill: var(--fill-color);\n",
              "    height: 32px;\n",
              "    padding: 0;\n",
              "    width: 32px;\n",
              "  }\n",
              "\n",
              "  .colab-df-quickchart:hover {\n",
              "    background-color: var(--hover-bg-color);\n",
              "    box-shadow: 0 1px 2px rgba(60, 64, 67, 0.3), 0 1px 3px 1px rgba(60, 64, 67, 0.15);\n",
              "    fill: var(--button-hover-fill-color);\n",
              "  }\n",
              "\n",
              "  .colab-df-quickchart-complete:disabled,\n",
              "  .colab-df-quickchart-complete:disabled:hover {\n",
              "    background-color: var(--disabled-bg-color);\n",
              "    fill: var(--disabled-fill-color);\n",
              "    box-shadow: none;\n",
              "  }\n",
              "\n",
              "  .colab-df-spinner {\n",
              "    border: 2px solid var(--fill-color);\n",
              "    border-color: transparent;\n",
              "    border-bottom-color: var(--fill-color);\n",
              "    animation:\n",
              "      spin 1s steps(1) infinite;\n",
              "  }\n",
              "\n",
              "  @keyframes spin {\n",
              "    0% {\n",
              "      border-color: transparent;\n",
              "      border-bottom-color: var(--fill-color);\n",
              "      border-left-color: var(--fill-color);\n",
              "    }\n",
              "    20% {\n",
              "      border-color: transparent;\n",
              "      border-left-color: var(--fill-color);\n",
              "      border-top-color: var(--fill-color);\n",
              "    }\n",
              "    30% {\n",
              "      border-color: transparent;\n",
              "      border-left-color: var(--fill-color);\n",
              "      border-top-color: var(--fill-color);\n",
              "      border-right-color: var(--fill-color);\n",
              "    }\n",
              "    40% {\n",
              "      border-color: transparent;\n",
              "      border-right-color: var(--fill-color);\n",
              "      border-top-color: var(--fill-color);\n",
              "    }\n",
              "    60% {\n",
              "      border-color: transparent;\n",
              "      border-right-color: var(--fill-color);\n",
              "    }\n",
              "    80% {\n",
              "      border-color: transparent;\n",
              "      border-right-color: var(--fill-color);\n",
              "      border-bottom-color: var(--fill-color);\n",
              "    }\n",
              "    90% {\n",
              "      border-color: transparent;\n",
              "      border-bottom-color: var(--fill-color);\n",
              "    }\n",
              "  }\n",
              "</style>\n",
              "\n",
              "  <script>\n",
              "    async function quickchart(key) {\n",
              "      const quickchartButtonEl =\n",
              "        document.querySelector('#' + key + ' button');\n",
              "      quickchartButtonEl.disabled = true;  // To prevent multiple clicks.\n",
              "      quickchartButtonEl.classList.add('colab-df-spinner');\n",
              "      try {\n",
              "        const charts = await google.colab.kernel.invokeFunction(\n",
              "            'suggestCharts', [key], {});\n",
              "      } catch (error) {\n",
              "        console.error('Error during call to suggestCharts:', error);\n",
              "      }\n",
              "      quickchartButtonEl.classList.remove('colab-df-spinner');\n",
              "      quickchartButtonEl.classList.add('colab-df-quickchart-complete');\n",
              "    }\n",
              "    (() => {\n",
              "      let quickchartButtonEl =\n",
              "        document.querySelector('#df-855b23f4-3c15-47d8-836c-974b9fbf8d43 button');\n",
              "      quickchartButtonEl.style.display =\n",
              "        google.colab.kernel.accessAllowed ? 'block' : 'none';\n",
              "    })();\n",
              "  </script>\n",
              "</div>\n",
              "\n",
              "  <div id=\"id_a002eaaf-9b85-4783-a1b3-99c19e39d473\">\n",
              "    <style>\n",
              "      .colab-df-generate {\n",
              "        background-color: #E8F0FE;\n",
              "        border: none;\n",
              "        border-radius: 50%;\n",
              "        cursor: pointer;\n",
              "        display: none;\n",
              "        fill: #1967D2;\n",
              "        height: 32px;\n",
              "        padding: 0 0 0 0;\n",
              "        width: 32px;\n",
              "      }\n",
              "\n",
              "      .colab-df-generate:hover {\n",
              "        background-color: #E2EBFA;\n",
              "        box-shadow: 0px 1px 2px rgba(60, 64, 67, 0.3), 0px 1px 3px 1px rgba(60, 64, 67, 0.15);\n",
              "        fill: #174EA6;\n",
              "      }\n",
              "\n",
              "      [theme=dark] .colab-df-generate {\n",
              "        background-color: #3B4455;\n",
              "        fill: #D2E3FC;\n",
              "      }\n",
              "\n",
              "      [theme=dark] .colab-df-generate:hover {\n",
              "        background-color: #434B5C;\n",
              "        box-shadow: 0px 1px 3px 1px rgba(0, 0, 0, 0.15);\n",
              "        filter: drop-shadow(0px 1px 2px rgba(0, 0, 0, 0.3));\n",
              "        fill: #FFFFFF;\n",
              "      }\n",
              "    </style>\n",
              "    <button class=\"colab-df-generate\" onclick=\"generateWithVariable('results_df')\"\n",
              "            title=\"Generate code using this dataframe.\"\n",
              "            style=\"display:none;\">\n",
              "\n",
              "  <svg xmlns=\"http://www.w3.org/2000/svg\" height=\"24px\"viewBox=\"0 0 24 24\"\n",
              "       width=\"24px\">\n",
              "    <path d=\"M7,19H8.4L18.45,9,17,7.55,7,17.6ZM5,21V16.75L18.45,3.32a2,2,0,0,1,2.83,0l1.4,1.43a1.91,1.91,0,0,1,.58,1.4,1.91,1.91,0,0,1-.58,1.4L9.25,21ZM18.45,9,17,7.55Zm-12,3A5.31,5.31,0,0,0,4.9,8.1,5.31,5.31,0,0,0,1,6.5,5.31,5.31,0,0,0,4.9,4.9,5.31,5.31,0,0,0,6.5,1,5.31,5.31,0,0,0,8.1,4.9,5.31,5.31,0,0,0,12,6.5,5.46,5.46,0,0,0,6.5,12Z\"/>\n",
              "  </svg>\n",
              "    </button>\n",
              "    <script>\n",
              "      (() => {\n",
              "      const buttonEl =\n",
              "        document.querySelector('#id_a002eaaf-9b85-4783-a1b3-99c19e39d473 button.colab-df-generate');\n",
              "      buttonEl.style.display =\n",
              "        google.colab.kernel.accessAllowed ? 'block' : 'none';\n",
              "\n",
              "      buttonEl.onclick = () => {\n",
              "        google.colab.notebook.generateWithVariable('results_df');\n",
              "      }\n",
              "      })();\n",
              "    </script>\n",
              "  </div>\n",
              "\n",
              "    </div>\n",
              "  </div>\n"
            ],
            "application/vnd.google.colaboratory.intrinsic+json": {
              "type": "dataframe",
              "variable_name": "results_df",
              "summary": "{\n  \"name\": \"results_df\",\n  \"rows\": 4,\n  \"fields\": [\n    {\n      \"column\": \"Model\",\n      \"properties\": {\n        \"dtype\": \"string\",\n        \"num_unique_values\": 4,\n        \"samples\": [\n          \"Ridge Regression\",\n          \"XGBoost\",\n          \"Lasso Regression\"\n        ],\n        \"semantic_type\": \"\",\n        \"description\": \"\"\n      }\n    },\n    {\n      \"column\": \"MAE\",\n      \"properties\": {\n        \"dtype\": \"number\",\n        \"std\": 0.12730479664470543,\n        \"min\": 4.117427578258202,\n        \"max\": 4.350971542322588,\n        \"num_unique_values\": 4,\n        \"samples\": [\n          4.122979501535288,\n          4.350971542322588,\n          4.117427578258202\n        ],\n        \"semantic_type\": \"\",\n        \"description\": \"\"\n      }\n    },\n    {\n      \"column\": \"RMSE\",\n      \"properties\": {\n        \"dtype\": \"number\",\n        \"std\": 1.8290182842305838,\n        \"min\": 26.43625177724705,\n        \"max\": 29.873424243047392,\n        \"num_unique_values\": 4,\n        \"samples\": [\n          26.545545152586598,\n          29.873424243047392,\n          26.43625177724705\n        ],\n        \"semantic_type\": \"\",\n        \"description\": \"\"\n      }\n    },\n    {\n      \"column\": \"R-squared\",\n      \"properties\": {\n        \"dtype\": \"number\",\n        \"std\": 0.027923996331866603,\n        \"min\": 0.5439163204789565,\n        \"max\": 0.5963923357022693,\n        \"num_unique_values\": 4,\n        \"samples\": [\n          0.5947237313813658,\n          0.5439163204789565,\n          0.5963923357022693\n        ],\n        \"semantic_type\": \"\",\n        \"description\": \"\"\n      }\n    }\n  ]\n}"
            }
          },
          "metadata": {},
          "execution_count": 19
        }
      ]
    },
    {
      "cell_type": "markdown",
      "source": [
        "#### Comparison of Baseline and Tuned Models"
      ],
      "metadata": {
        "id": "Si5DJWV3OsOc"
      }
    },
    {
      "cell_type": "code",
      "source": [
        "baseline_df['Status'] = 'Baseline'\n",
        "results_df['Status'] = 'Tuned'\n",
        "\n",
        "compare_df = pd.concat([baseline_df, results_df], ignore_index=True)"
      ],
      "metadata": {
        "id": "oucQ_ZyKNzMq"
      },
      "execution_count": 20,
      "outputs": []
    },
    {
      "cell_type": "code",
      "source": [
        "# MAE\n",
        "plt.figure(figsize=(5, 3))\n",
        "sns.boxplot(x='Status', y='MAE', data=compare_df)\n",
        "plt.title('MAE: Baseline vs Tuned')\n",
        "plt.tight_layout()\n",
        "plt.show()"
      ],
      "metadata": {
        "colab": {
          "base_uri": "https://localhost:8080/",
          "height": 307
        },
        "id": "1Mq6aQnS-IvL",
        "outputId": "36a4ae91-1869-43c9-db34-a24826446f5d"
      },
      "execution_count": 27,
      "outputs": [
        {
          "output_type": "display_data",
          "data": {
            "text/plain": [
              "<Figure size 500x300 with 1 Axes>"
            ],
            "image/png": "[encoded data removed]"
          },
          "metadata": {}
        }
      ]
    },
    {
      "cell_type": "code",
      "source": [
        "# RMSE\n",
        "plt.figure(figsize=(5, 3))\n",
        "sns.boxplot(x='Status', y='RMSE', data=compare_df)\n",
        "plt.title('RMSE: Baseline vs Tuned')\n",
        "plt.tight_layout()\n",
        "plt.show()"
      ],
      "metadata": {
        "colab": {
          "base_uri": "https://localhost:8080/",
          "height": 307
        },
        "id": "B0qrnFWl-81d",
        "outputId": "c50268b8-644c-47f6-ae4a-00a6b193efb2"
      },
      "execution_count": 28,
      "outputs": [
        {
          "output_type": "display_data",
          "data": {
            "text/plain": [
              "<Figure size 500x300 with 1 Axes>"
            ],
            "image/png": "[encoded data removed]"
          },
          "metadata": {}
        }
      ]
    },
    {
      "cell_type": "code",
      "source": [
        "# R-squared Score\n",
        "plt.figure(figsize=(5, 3))\n",
        "sns.boxplot(x='Status', y='R-squared', data=compare_df)\n",
        "plt.title('R-squared: Baseline vs Tuned')\n",
        "plt.tight_layout()\n",
        "plt.show()"
      ],
      "metadata": {
        "colab": {
          "base_uri": "https://localhost:8080/",
          "height": 307
        },
        "id": "VID1EL5G-_u6",
        "outputId": "74db9178-e7d6-4d71-9379-95d7d044f302"
      },
      "execution_count": 29,
      "outputs": [
        {
          "output_type": "display_data",
          "data": {
            "text/plain": [
              "<Figure size 500x300 with 1 Axes>"
            ],
            "image/png": "[encoded data removed]"
          },
          "metadata": {}
        }
      ]
    },
    {
      "cell_type": "markdown",
      "source": [
        "## Conclusion"
      ],
      "metadata": {
        "id": "T8Ne2s4tS0MM"
      }
    },
    {
      "cell_type": "markdown",
      "source": [
        "Berdasarkan hasil evaluasi terhadap empat model regresi (Ridge, Lasso, Random Forest, dan XGBoost), tuning parameter menggunakan RandomizedSearchCV memberikan peningkatan performa secara umum dibandingkan model dengan parameter default (baseline).\n",
        "\n",
        "- **Lasso Regression** menunjukkan peningkatan signifikan, dari RMSE 33.84 (baseline) menjadi 26.44 (tuned), dan R-squared meningkat dari 0.48 menjadi 0.60.\n",
        "- **XGBoost dan Random Forest** juga mengalami penurunan nilai RMSE dan kenaikan R-squared, walaupun peningkatannya relatif kecil.\n",
        "- **Ridge Regression** memiliki performa yang relatif stabil, dengan hasil tuning yang hampir sama dengan baseline.\n",
        "\n",
        "Secara keseluruhan, tuning berhasil meningkatkan kinerja model, terutama pada model linear seperti Lasso, yang sebelumnya menunjukkan performa terburuk namun menjadi model terbaik setelah tuning. Dengan demikian, Proses tuning hyperparameter terbukti bermanfaat dalam meningkatkan akurasi prediksi model regresi untuk kasus ini."
      ],
      "metadata": {
        "id": "7GoS82qXTBQa"
      }
    }
  ]
}